{
  "nbformat": 4,
  "nbformat_minor": 0,
  "metadata": {
    "colab": {
      "provenance": []
    },
    "kernelspec": {
      "name": "python3",
      "display_name": "Python 3"
    },
    "language_info": {
      "name": "python"
    }
  },
  "cells": [
    {
      "cell_type": "code",
      "execution_count": null,
      "metadata": {
        "id": "uaXNmpvHc2cr"
      },
      "outputs": [],
      "source": []
    },
    {
      "cell_type": "code",
      "source": [
        "## 1. What is a constructor in Python? Explain its purpose and usage."
      ],
      "metadata": {
        "id": "jsVSGVAMdto0"
      },
      "execution_count": null,
      "outputs": []
    },
    {
      "cell_type": "markdown",
      "source": [
        "It's a special method within a class that is automatically invoked when an object of that class is created.\n",
        "It's used to initialize the object's attributes (data members) and set up its initial state.\n",
        "\n",
        "It is defined by method named __init__ (two underscores on each side) within the class.\n",
        "It must have self as the first parameter, referring to the newly created object."
      ],
      "metadata": {
        "id": "GWXrylBwd4Tg"
      }
    },
    {
      "cell_type": "code",
      "source": [
        "##2. Differentiate between a parameterless constructor and a parameterized constructor in Python."
      ],
      "metadata": {
        "id": "FGmJouB6emPN"
      },
      "execution_count": null,
      "outputs": []
    },
    {
      "cell_type": "markdown",
      "source": [
        "\n",
        "Parameterless Constructor has only self(pointer) as a parameter and it does not take any other argument. It creates objects with default values for attributes.\n",
        "\n",
        "Example:\n",
        "\n",
        "def __init__(self):\n",
        "  self.name = \"Amit\"\n",
        "  self.age = 33\n",
        "\n",
        "parameterized constructor has one or more parameters besides self. It accepts input values during object creation\n",
        "\n",
        "Example:\n",
        "\n",
        "def __init__(self, name, age):\n",
        "   self.name = name\n",
        "   self.age = age\n",
        "\n",
        "\n",
        "\n",
        "\n",
        "\n",
        "\n"
      ],
      "metadata": {
        "id": "bgOF3ohYfAzZ"
      }
    },
    {
      "cell_type": "code",
      "source": [
        "## 3. How do you define a constructor in a Python class? Provide an example."
      ],
      "metadata": {
        "id": "ipp-OlqOjd6c"
      },
      "execution_count": null,
      "outputs": []
    },
    {
      "cell_type": "code",
      "source": [
        "\"\"\" The constructor is a special method within a class named __init__ (two underscores on each side).\n",
        "It's automatically invoked when a new object of the class is created.\"\"\"\n",
        "\n",
        "## example :\n",
        "\n",
        "class student :\n",
        "\n",
        "  def __init__(self):\n",
        "    self.name = \"Amit\"\n",
        "    self.age = 30\n",
        "\n",
        "\n",
        "obj1 = student()\n",
        "obj1.name\n"
      ],
      "metadata": {
        "colab": {
          "base_uri": "https://localhost:8080/",
          "height": 36
        },
        "id": "5Olz9C1BjvvM",
        "outputId": "e8979d7b-5c45-427c-90ab-f9fcd5af3a06"
      },
      "execution_count": null,
      "outputs": [
        {
          "output_type": "execute_result",
          "data": {
            "text/plain": [
              "'Amit'"
            ],
            "application/vnd.google.colaboratory.intrinsic+json": {
              "type": "string"
            }
          },
          "metadata": {},
          "execution_count": 4
        }
      ]
    },
    {
      "cell_type": "code",
      "source": [
        "## 4. Explain the `__init__` method in Python and its role in constructors."
      ],
      "metadata": {
        "id": "DG-vsikpkapG"
      },
      "execution_count": null,
      "outputs": []
    },
    {
      "cell_type": "code",
      "source": [
        "\"\"\" It's a special method within a Python class that serves as the class's constructor.\n",
        "Its name is surrounded by double underscores on each side (__init__), indicating its special status.\n",
        "It's automatically invoked whenever a new object of the class is created.\"\"\"\n"
      ],
      "metadata": {
        "colab": {
          "base_uri": "https://localhost:8080/",
          "height": 53
        },
        "id": "hjZ6xGBCk72m",
        "outputId": "774ae157-f479-48e9-f726-ce1e273d7b5a"
      },
      "execution_count": null,
      "outputs": [
        {
          "output_type": "execute_result",
          "data": {
            "text/plain": [
              "\" It's a special method within a Python class that serves as the class's constructor.\\nIts name is surrounded by double underscores on each side (__init__), indicating its special status.\\nIt's automatically invoked whenever a new object of the class is created.\""
            ],
            "application/vnd.google.colaboratory.intrinsic+json": {
              "type": "string"
            }
          },
          "metadata": {},
          "execution_count": 6
        }
      ]
    },
    {
      "cell_type": "code",
      "source": [
        "## 5. In a class named `Person`, create a constructor that initializes the `name` and `age` attributes. Provide an example of creating an object of this class."
      ],
      "metadata": {
        "id": "1ynOGyF6lW9-"
      },
      "execution_count": null,
      "outputs": []
    },
    {
      "cell_type": "code",
      "source": [
        "class Person:\n",
        "\n",
        "  def __init__(self, name, age):\n",
        "    self.name = name\n",
        "    self.age = age\n",
        "\n",
        "obj2 = Person(\"niks\", 1)\n",
        "obj2.name"
      ],
      "metadata": {
        "colab": {
          "base_uri": "https://localhost:8080/",
          "height": 36
        },
        "id": "9wLKIJ4slnvl",
        "outputId": "028ec917-ed6c-467c-802f-58b04821ec61"
      },
      "execution_count": null,
      "outputs": [
        {
          "output_type": "execute_result",
          "data": {
            "text/plain": [
              "'niks'"
            ],
            "application/vnd.google.colaboratory.intrinsic+json": {
              "type": "string"
            }
          },
          "metadata": {},
          "execution_count": 8
        }
      ]
    },
    {
      "cell_type": "code",
      "source": [
        "obj2.age"
      ],
      "metadata": {
        "colab": {
          "base_uri": "https://localhost:8080/"
        },
        "id": "r0q0Oquxl7BF",
        "outputId": "dd82470c-3805-49e8-b8a1-5b737900c1ce"
      },
      "execution_count": null,
      "outputs": [
        {
          "output_type": "execute_result",
          "data": {
            "text/plain": [
              "1"
            ]
          },
          "metadata": {},
          "execution_count": 9
        }
      ]
    },
    {
      "cell_type": "code",
      "source": [
        "## How can you call a constructor explicitly in Python? Give an example."
      ],
      "metadata": {
        "id": "8xjCeE2amI2G"
      },
      "execution_count": null,
      "outputs": []
    },
    {
      "cell_type": "code",
      "source": [
        "\"\"\" While we cannot explicitly call a constructor using its name like a regular method in Python, there are two primary ways to invoke it:\n",
        "\n",
        "1. object Creation\n",
        "2. Using super() in Inheritance :\n",
        "\n",
        "When a class inherits from a parent class, you can explicitly call the parent's constructor using the super() function within the child class's constructor\"\"\""
      ],
      "metadata": {
        "colab": {
          "base_uri": "https://localhost:8080/",
          "height": 53
        },
        "id": "v1Wira_OmTpV",
        "outputId": "b5240216-6766-463a-ed5e-db3fa2e30da9"
      },
      "execution_count": null,
      "outputs": [
        {
          "output_type": "execute_result",
          "data": {
            "text/plain": [
              "\" While we cannot explicitly call a constructor using its name like a regular method in Python, there are two primary ways to invoke it:\\n\\n1. object Creation\\n2. Using super() in Inheritance :\\n\\nWhen a class inherits from a parent class, you can explicitly call the parent's constructor using the super() function within the child class's constructor\""
            ],
            "application/vnd.google.colaboratory.intrinsic+json": {
              "type": "string"
            }
          },
          "metadata": {},
          "execution_count": 11
        }
      ]
    },
    {
      "cell_type": "code",
      "source": [
        "## What is the significance of the `self` parameter in Python constructors? Explain with an example."
      ],
      "metadata": {
        "id": "rCNZRahTt8wn"
      },
      "execution_count": null,
      "outputs": []
    },
    {
      "cell_type": "code",
      "source": [
        "\"\"\" Self must always be the first parameter of the constructor. Python automatically passes self when the constructor is called, so you don't need to provide it during object creation.\n",
        "\n",
        "1. It is a special parameter that's automatically passed to the constructor (__init__) method when a new object is created.\n",
        "2. It is used to assign values to the object's attributes.\n",
        "3. It is used for calling methods\n",
        "4. It is a convention, not a keyword \"\"\""
      ],
      "metadata": {
        "colab": {
          "base_uri": "https://localhost:8080/",
          "height": 70
        },
        "id": "MNUVOJRVuIkn",
        "outputId": "deba80d3-e456-444e-b681-b3e88ba98d97"
      },
      "execution_count": null,
      "outputs": [
        {
          "output_type": "execute_result",
          "data": {
            "text/plain": [
              "\" Self must always be the first parameter of the constructor. Python automatically passes self when the constructor is called, so you don't need to provide it during object creation.\\n\\n1. It is a special parameter that's automatically passed to the constructor (__init__) method when a new object is created.\\n2. It is used to assign values to the object's attributes.\\n3. It is used for calling methods\\n4. It is a convention, not a keyword \""
            ],
            "application/vnd.google.colaboratory.intrinsic+json": {
              "type": "string"
            }
          },
          "metadata": {},
          "execution_count": 13
        }
      ]
    },
    {
      "cell_type": "code",
      "source": [
        "## Discuss the concept of default constructors in Python. When are they used?"
      ],
      "metadata": {
        "id": "j6CDPrU7vea3"
      },
      "execution_count": null,
      "outputs": []
    },
    {
      "cell_type": "code",
      "source": [
        "\"\"\" It's a constructor that doesn't take any arguments (except the mandatory self parameter). It's automatically provided by Python if we don't define a constructor (__init__ method) for your class.\n",
        "It performs minimal initialization, setting the object's attributes to their default values (usually None, 0, or False).\"\"\""
      ],
      "metadata": {
        "colab": {
          "base_uri": "https://localhost:8080/",
          "height": 53
        },
        "id": "AdmwRCBUvmp4",
        "outputId": "aeabca9d-3f60-4522-f70e-3e176a7f6c9f"
      },
      "execution_count": null,
      "outputs": [
        {
          "output_type": "execute_result",
          "data": {
            "text/plain": [
              "\" It's a constructor that doesn't take any arguments (except the mandatory self parameter). It's automatically provided by Python if we don't define a constructor (__init__ method) for your class.\\nIt performs minimal initialization, setting the object's attributes to their default values (usually None, 0, or False).\""
            ],
            "application/vnd.google.colaboratory.intrinsic+json": {
              "type": "string"
            }
          },
          "metadata": {},
          "execution_count": 15
        }
      ]
    },
    {
      "cell_type": "code",
      "source": [
        "## 9. Create a Python class called `Rectangle` with a constructor that initializes the `width` and `height attributes. Provide a method to calculate the area of the rectangle."
      ],
      "metadata": {
        "id": "zq0gZaAtwUw3"
      },
      "execution_count": null,
      "outputs": []
    },
    {
      "cell_type": "code",
      "source": [
        "class Rectangle:\n",
        "\n",
        "  def __init__(self, length, breadth):\n",
        "    self.length = length\n",
        "    self.breadth = breadth\n",
        "\n",
        "  def Area(self):\n",
        "    Area_of_Rectangle = self.length * self.breadth\n",
        "    print(\"the area of rectangle is \", Area_of_Rectangle)\n"
      ],
      "metadata": {
        "id": "-A1ekkEswfvn"
      },
      "execution_count": null,
      "outputs": []
    },
    {
      "cell_type": "code",
      "source": [
        "rec = Rectangle(12.4,4.5)"
      ],
      "metadata": {
        "id": "HcnHM-Wp2AMx"
      },
      "execution_count": null,
      "outputs": []
    },
    {
      "cell_type": "code",
      "source": [
        "rec.length\n"
      ],
      "metadata": {
        "colab": {
          "base_uri": "https://localhost:8080/"
        },
        "id": "_IyKiJh42ycB",
        "outputId": "361634d2-246a-413c-8ef5-a18f8220d23a"
      },
      "execution_count": null,
      "outputs": [
        {
          "output_type": "execute_result",
          "data": {
            "text/plain": [
              "12.4"
            ]
          },
          "metadata": {},
          "execution_count": 19
        }
      ]
    },
    {
      "cell_type": "code",
      "source": [
        "rec.breadth"
      ],
      "metadata": {
        "colab": {
          "base_uri": "https://localhost:8080/"
        },
        "id": "yJRF4QyL251g",
        "outputId": "25bc4f01-fcd5-4a84-b40d-a705b9c2becc"
      },
      "execution_count": null,
      "outputs": [
        {
          "output_type": "execute_result",
          "data": {
            "text/plain": [
              "4.5"
            ]
          },
          "metadata": {},
          "execution_count": 20
        }
      ]
    },
    {
      "cell_type": "code",
      "source": [
        "rec.Area()"
      ],
      "metadata": {
        "colab": {
          "base_uri": "https://localhost:8080/"
        },
        "id": "TovWheva2_jY",
        "outputId": "f973b913-bf55-4748-d69a-695526536fbb"
      },
      "execution_count": null,
      "outputs": [
        {
          "output_type": "stream",
          "name": "stdout",
          "text": [
            "the area of rectangle is  55.800000000000004\n"
          ]
        }
      ]
    },
    {
      "cell_type": "code",
      "source": [
        "## 10. How can you have multiple constructors in a Python class? Explain with an example."
      ],
      "metadata": {
        "id": "K0tJYqug3B0Q"
      },
      "execution_count": null,
      "outputs": []
    },
    {
      "cell_type": "code",
      "source": [
        "\"\"\" In Python, a class can have multiple constructors by using class methods or default parameter values.\n",
        "\n",
        "Using Default Parameter Values. In this example, the __init__ method has default values for y and z, so you can create objects with different numbers of parameters\"\"\"\n",
        "\n",
        "\n",
        "class student :\n",
        "  def __init__(self, x, y = None, z = None):\n",
        "    self.x = x\n",
        "    self.y = y\n",
        "    self.z = z\n",
        "\n",
        "## # Creating objects with different constructors\n",
        "obj1 = student(10)\n",
        "obj2 = student(20, 30)\n",
        "obj3 = student(40, 50, 60)\n",
        "\n",
        "\n",
        "\n",
        "\n"
      ],
      "metadata": {
        "id": "LJly4-4C61Z5"
      },
      "execution_count": null,
      "outputs": []
    },
    {
      "cell_type": "code",
      "source": [
        "obj1.x"
      ],
      "metadata": {
        "colab": {
          "base_uri": "https://localhost:8080/"
        },
        "id": "Hp5ZLB707jhq",
        "outputId": "b8c110aa-f333-4f76-ea41-606f0900e04e"
      },
      "execution_count": null,
      "outputs": [
        {
          "output_type": "execute_result",
          "data": {
            "text/plain": [
              "10"
            ]
          },
          "metadata": {},
          "execution_count": 24
        }
      ]
    },
    {
      "cell_type": "code",
      "source": [
        "obj2.y"
      ],
      "metadata": {
        "colab": {
          "base_uri": "https://localhost:8080/"
        },
        "id": "weOjoM1W7rJh",
        "outputId": "30bae4a9-2270-42c4-9e62-38f85201ee6b"
      },
      "execution_count": null,
      "outputs": [
        {
          "output_type": "execute_result",
          "data": {
            "text/plain": [
              "30"
            ]
          },
          "metadata": {},
          "execution_count": 25
        }
      ]
    },
    {
      "cell_type": "code",
      "source": [
        "## using classmethod\n",
        "\n",
        "class Myclass:\n",
        "  class_variable = \"I am a class variable\"\n",
        "\n",
        "  def __init__(self, x):\n",
        "    self.x = x\n",
        "\n",
        "\n",
        "\n",
        "  @classmethod\n",
        "  def show(cls):\n",
        "    print(cls.class_variable)\n",
        "\n"
      ],
      "metadata": {
        "id": "57HN3yM-7xqZ"
      },
      "execution_count": null,
      "outputs": []
    },
    {
      "cell_type": "code",
      "source": [
        "obj3 = Myclass(23)"
      ],
      "metadata": {
        "id": "LU0ldXTbBl0v"
      },
      "execution_count": null,
      "outputs": []
    },
    {
      "cell_type": "code",
      "source": [
        "obj3.x"
      ],
      "metadata": {
        "colab": {
          "base_uri": "https://localhost:8080/"
        },
        "id": "GtaXd22LBOUa",
        "outputId": "b39710c8-1ed4-44f9-e0a1-439c8eb6238c"
      },
      "execution_count": null,
      "outputs": [
        {
          "output_type": "execute_result",
          "data": {
            "text/plain": [
              "23"
            ]
          },
          "metadata": {},
          "execution_count": 28
        }
      ]
    },
    {
      "cell_type": "code",
      "source": [
        "Myclass.show()"
      ],
      "metadata": {
        "colab": {
          "base_uri": "https://localhost:8080/"
        },
        "id": "h7tXbeAjBy4D",
        "outputId": "abbf8743-1a28-4b6a-edb9-e89b74a385b3"
      },
      "execution_count": null,
      "outputs": [
        {
          "output_type": "stream",
          "name": "stdout",
          "text": [
            "I am a class variable\n"
          ]
        }
      ]
    },
    {
      "cell_type": "code",
      "source": [
        "## What is method overloading, and how is it related to constructors in Python?"
      ],
      "metadata": {
        "id": "1NvuA5lnCjTc"
      },
      "execution_count": null,
      "outputs": []
    },
    {
      "cell_type": "markdown",
      "source": [
        "Method overloading refers to the ability to define multiple methods in a class with the same name but with different parameter lists. The methods are considered overloaded because they have the same name but different signatures (different types or numbers of parameters). The choice of which method to call is determined by the number and types of arguments passed during the method invocation.\n",
        "\n",
        "When it comes to constructors in Python, which are special methods named __init__, overloading is typically achieved by defining multiple __init__ methods with different parameter lists. This allows objects to be instantiated with different sets of arguments."
      ],
      "metadata": {
        "id": "itAoO7tXz_q_"
      }
    },
    {
      "cell_type": "code",
      "source": [
        "class student :\n",
        "\n",
        "  def __init__(self, name, age):\n",
        "    self.name = name\n",
        "    self.age = age\n",
        "\n",
        "  def __init__(self, name, age = None):\n",
        "    self.name = name\n",
        "    self.age = age"
      ],
      "metadata": {
        "id": "rsodTEfg0CHn"
      },
      "execution_count": null,
      "outputs": []
    },
    {
      "cell_type": "code",
      "source": [
        "obj1 = student(\"Amit\", 33)\n",
        "obj2 = student(\"niks\")"
      ],
      "metadata": {
        "id": "sZO-ttvt0nLX"
      },
      "execution_count": null,
      "outputs": []
    },
    {
      "cell_type": "code",
      "source": [
        "obj1.name"
      ],
      "metadata": {
        "colab": {
          "base_uri": "https://localhost:8080/",
          "height": 36
        },
        "id": "MghXfR0q11cg",
        "outputId": "86e3cdfa-e55e-41e8-c263-edc824ee3f65"
      },
      "execution_count": null,
      "outputs": [
        {
          "output_type": "execute_result",
          "data": {
            "text/plain": [
              "'Amit'"
            ],
            "application/vnd.google.colaboratory.intrinsic+json": {
              "type": "string"
            }
          },
          "metadata": {},
          "execution_count": 33
        }
      ]
    },
    {
      "cell_type": "code",
      "source": [
        "obj2.name"
      ],
      "metadata": {
        "colab": {
          "base_uri": "https://localhost:8080/",
          "height": 36
        },
        "id": "jGA0o1SF2C3n",
        "outputId": "97745c83-9ba7-4ff5-c35d-8447d0b9bcca"
      },
      "execution_count": null,
      "outputs": [
        {
          "output_type": "execute_result",
          "data": {
            "text/plain": [
              "'niks'"
            ],
            "application/vnd.google.colaboratory.intrinsic+json": {
              "type": "string"
            }
          },
          "metadata": {},
          "execution_count": 34
        }
      ]
    },
    {
      "cell_type": "code",
      "source": [
        "obj2.age"
      ],
      "metadata": {
        "id": "oBAzFL8D2E33"
      },
      "execution_count": null,
      "outputs": []
    },
    {
      "cell_type": "code",
      "source": [
        "## Explain the use of the `super()` function in Python constructors. Provide an example."
      ],
      "metadata": {
        "id": "iBP70QXR2JmX"
      },
      "execution_count": null,
      "outputs": []
    },
    {
      "cell_type": "markdown",
      "source": [
        "Super() in python is used to call construction of parent class. it is essential for inheritance and code reusability in object-oriented programming.super() is not limited to constructors; it can be used to access any inherited methods\n",
        "\n",
        "For example"
      ],
      "metadata": {
        "id": "Lg2Eh5gS5yFW"
      }
    },
    {
      "cell_type": "code",
      "source": [
        "class parent :\n",
        "\n",
        "  def __init__(self, name):\n",
        "    self.name = name\n",
        "\n",
        "\n",
        "class child(parent):\n",
        "\n",
        "  def __init__(self, name, age):\n",
        "    super().__init__(name)\n",
        "    self.age = age\n"
      ],
      "metadata": {
        "id": "QNlm2sIu6hqH"
      },
      "execution_count": null,
      "outputs": []
    },
    {
      "cell_type": "code",
      "source": [
        "obj3 = child(\"Amit\", 33)"
      ],
      "metadata": {
        "id": "GLWlwURu8dK4"
      },
      "execution_count": null,
      "outputs": []
    },
    {
      "cell_type": "code",
      "source": [
        "obj3.name"
      ],
      "metadata": {
        "colab": {
          "base_uri": "https://localhost:8080/",
          "height": 36
        },
        "id": "gdarhYqJ8qo_",
        "outputId": "dbe5ea94-f2d5-4745-bcc5-d50fe5cad9e7"
      },
      "execution_count": null,
      "outputs": [
        {
          "output_type": "execute_result",
          "data": {
            "text/plain": [
              "'Amit'"
            ],
            "application/vnd.google.colaboratory.intrinsic+json": {
              "type": "string"
            }
          },
          "metadata": {},
          "execution_count": 39
        }
      ]
    },
    {
      "cell_type": "code",
      "source": [
        "obj3.age"
      ],
      "metadata": {
        "colab": {
          "base_uri": "https://localhost:8080/"
        },
        "id": "GDPoLrMP8s8n",
        "outputId": "e8d1c112-70fa-4df5-e985-096ae2cf08a8"
      },
      "execution_count": null,
      "outputs": [
        {
          "output_type": "execute_result",
          "data": {
            "text/plain": [
              "33"
            ]
          },
          "metadata": {},
          "execution_count": 40
        }
      ]
    },
    {
      "cell_type": "code",
      "source": [
        "## 13. Create a class called `Book` with a constructor that initializes the `title`, `author`, and `published_year` attributes. Provide a method to display book details."
      ],
      "metadata": {
        "id": "XmLoVErV8vvH"
      },
      "execution_count": null,
      "outputs": []
    },
    {
      "cell_type": "code",
      "source": [
        "class Book:\n",
        "\n",
        "  def __init__(self, title, author, published_year):\n",
        "    self.title = title\n",
        "    self.author = author\n",
        "    self.published_year = published_year\n",
        "\n",
        "  def display(self):\n",
        "    print(f\"the title of the book is {self.title }\")\n",
        "    print(f\"the author of the book is {self.author}\")\n",
        "    print(f\"the year of published is {self.published_year}\")"
      ],
      "metadata": {
        "id": "lKI1_wo79Ga4"
      },
      "execution_count": null,
      "outputs": []
    },
    {
      "cell_type": "code",
      "source": [
        "obj5 = Book(\"Data Science\", \"Amit Bahedia\", 2024)"
      ],
      "metadata": {
        "id": "GAHzecqw98FR"
      },
      "execution_count": null,
      "outputs": []
    },
    {
      "cell_type": "code",
      "source": [
        "\n",
        "obj5.display()"
      ],
      "metadata": {
        "colab": {
          "base_uri": "https://localhost:8080/"
        },
        "id": "5ReCqhzZ-FNI",
        "outputId": "aea7f6d2-70b1-40cc-bced-55a4ad13cb71"
      },
      "execution_count": null,
      "outputs": [
        {
          "output_type": "stream",
          "name": "stdout",
          "text": [
            "the title of the book is Data Science\n",
            "the author of the book is Amit Bahedia\n",
            "the year of published is 2024\n"
          ]
        }
      ]
    },
    {
      "cell_type": "code",
      "source": [
        "## 14. Discuss the differences between constructors and regular methods in Python classes."
      ],
      "metadata": {
        "id": "JjrGnTe2-HoA"
      },
      "execution_count": null,
      "outputs": []
    },
    {
      "cell_type": "markdown",
      "source": [
        "Constructor initializes attributes of the object.Automatically invoked when an object of the class is created. It is initalized by __init__.\n",
        "\n",
        "Regular methods are called explicitly on object. They can return any value or None to indicate no meaningful return. It defines the actions or behaviors that objects of the class can perform"
      ],
      "metadata": {
        "id": "7FzrNF_gzPvF"
      }
    },
    {
      "cell_type": "code",
      "source": [
        "## Explain the role of the `self` parameter in instance variable initialization within a constructor."
      ],
      "metadata": {
        "id": "_XM0a1XJ0MGv"
      },
      "execution_count": null,
      "outputs": []
    },
    {
      "cell_type": "markdown",
      "source": [
        "It is the first parameter when we define any function and constrctor  in class. It is used to Creating Instance Variables and Accessing and Modifying Attributes\n",
        "\n",
        "---\n",
        "\n"
      ],
      "metadata": {
        "id": "9qaAUayJ0xdL"
      }
    },
    {
      "cell_type": "code",
      "source": [
        "## 16. How do you prevent a class from having multiple instances by using constructors in Python? Provide an example."
      ],
      "metadata": {
        "id": "M7EH4G950yvU"
      },
      "execution_count": null,
      "outputs": []
    },
    {
      "cell_type": "markdown",
      "source": [
        "\n",
        "In Python, you can prevent a class from having multiple instances by using a design pattern called the Singleton pattern. The Singleton pattern ensures that a class has only one instance and provides a global point of access to that instance. One common way to implement the Singleton pattern is by using a class variable to keep track of the instance and a class method to create or retrieve the instance.\n",
        "\n",
        "\n",
        "\n",
        "\n",
        "\n",
        "\n",
        "\n",
        "\n"
      ],
      "metadata": {
        "id": "GbPcEiyq14ML"
      }
    },
    {
      "cell_type": "code",
      "source": [
        "## Create a Python class called `Student` with a constructor that takes a list of subjects as a parameter and initializes the `subjects` attribute."
      ],
      "metadata": {
        "id": "Yyktdlw55bhP"
      },
      "execution_count": null,
      "outputs": []
    },
    {
      "cell_type": "code",
      "source": [
        "class Student:\n",
        "\n",
        "  def __init__(self):\n",
        "\n",
        "    self.list_of_subjects = [\"Data Science\", \"Big Data\", \"java\", \"C++\"]\n",
        "\n",
        "  def display_subjects(self):\n",
        "    print(\"The list of the subjects are\",self.list_of_subjects )\n",
        "\n",
        "obj2 = Student()"
      ],
      "metadata": {
        "id": "ucudPRVk5deH"
      },
      "execution_count": null,
      "outputs": []
    },
    {
      "cell_type": "code",
      "source": [
        "obj2.display_subjects()"
      ],
      "metadata": {
        "colab": {
          "base_uri": "https://localhost:8080/"
        },
        "id": "0kIYype99nFP",
        "outputId": "07b4bd4d-b3e9-4854-fccd-b0714b54145a"
      },
      "execution_count": null,
      "outputs": [
        {
          "output_type": "stream",
          "name": "stdout",
          "text": [
            "The list of the subjects are ['Data Science', 'Big Data', 'java', 'C++']\n"
          ]
        }
      ]
    },
    {
      "cell_type": "code",
      "source": [
        "## What is the purpose of the `__del__` method in Python classes, and how does it relate to constructors?"
      ],
      "metadata": {
        "id": "73H442y-9uhw"
      },
      "execution_count": null,
      "outputs": []
    },
    {
      "cell_type": "markdown",
      "source": [
        "The __del__ method in Python is a special method that is used for garbage collection and cleaning up resources when an object is about to be destroyed. It is called automatically just before an object is deallocated (destroyed) by the garbage collector. The purpose of __del__ is to define the actions that should be taken when an object is no longer needed.\n"
      ],
      "metadata": {
        "id": "ssLf0l3B_YFK"
      }
    },
    {
      "cell_type": "code",
      "source": [
        "class MyClass:\n",
        "    def __init__(self, name):\n",
        "        self.name = name\n",
        "        print(f\"{self.name} created\")\n",
        "\n",
        "    def __del__(self):\n",
        "        print(f\"{self.name} is being destroyed\")\n",
        "\n",
        "# Create two instances of MyClass\n",
        "obj1 = MyClass(\"Object 1\")\n",
        "obj2 = MyClass(\"Object 2\")"
      ],
      "metadata": {
        "colab": {
          "base_uri": "https://localhost:8080/"
        },
        "id": "yOkKcCZ0_Zlf",
        "outputId": "9df81454-c870-44af-baaa-9fcbcbf48046"
      },
      "execution_count": null,
      "outputs": [
        {
          "output_type": "stream",
          "name": "stdout",
          "text": [
            "Object 1 created\n",
            "Object 2 created\n"
          ]
        }
      ]
    },
    {
      "cell_type": "code",
      "source": [
        "## Create a Python class called `Car` with a default constructor that initializes the `make` and `model` attributes. Provide a method to display car information."
      ],
      "metadata": {
        "id": "ptUpvtjr_jyv"
      },
      "execution_count": null,
      "outputs": []
    },
    {
      "cell_type": "code",
      "source": [
        "class Car:\n",
        "\n",
        "  def __init__(self, make, model):\n",
        "    self.make = make\n",
        "    self.model = model\n",
        "\n",
        "  def display(self):\n",
        "    print(\"the name of the car is\", self.make)\n",
        "    print(\"the model of the car is\",self.model)\n",
        "\n",
        "\n",
        "\n",
        "\n"
      ],
      "metadata": {
        "id": "14FMM-bM_vBY"
      },
      "execution_count": null,
      "outputs": []
    },
    {
      "cell_type": "code",
      "source": [
        "obj3 = Car(\"Maruti\", \"swift\")\n",
        "obj4 = Car(\"Hyundai\", \"i20\")"
      ],
      "metadata": {
        "id": "rkwbGvl6AEiI"
      },
      "execution_count": null,
      "outputs": []
    },
    {
      "cell_type": "code",
      "source": [
        "obj3.display()"
      ],
      "metadata": {
        "id": "pxCAfxZVBdkP",
        "outputId": "aef4b3c5-1d49-4fac-9245-07f413430b00",
        "colab": {
          "base_uri": "https://localhost:8080/"
        }
      },
      "execution_count": null,
      "outputs": [
        {
          "output_type": "stream",
          "name": "stdout",
          "text": [
            "the name of the car is Maruti\n",
            "the model of the car is swift\n"
          ]
        }
      ]
    },
    {
      "cell_type": "code",
      "source": [
        "## Inheritance"
      ],
      "metadata": {
        "id": "H1EAKQQuBf7G"
      },
      "execution_count": null,
      "outputs": []
    },
    {
      "cell_type": "code",
      "source": [
        "## What is inheritance in Python? Explain its significance in object-oriented programming."
      ],
      "metadata": {
        "id": "WSRXofyKJQX0"
      },
      "execution_count": null,
      "outputs": []
    },
    {
      "cell_type": "markdown",
      "source": [
        "Inheritance is the capability and ability of one class to inherit the property of another class. The subclass inherits the attributes (data) and methods (functions) from the superclass.\n",
        "\n",
        "Example"
      ],
      "metadata": {
        "id": "RixASa7DJbTI"
      }
    },
    {
      "cell_type": "code",
      "source": [
        "class parent:\n",
        "\n",
        "  def __init__(self,name, address):\n",
        "    self.name = name\n",
        "    self.address = address\n",
        "\n",
        "  def display_address(self):\n",
        "    print(f\"the address is {self.address}\")\n",
        "\n",
        "class child(parent):\n",
        "  def __init__(self, name, address):\n",
        "    super().__init__(name, address)\n",
        "    self.name = name\n"
      ],
      "metadata": {
        "id": "ikIYvZqOKtOI"
      },
      "execution_count": null,
      "outputs": []
    },
    {
      "cell_type": "code",
      "source": [
        "\n",
        "obj1 = child(\"Amit\", \"Rajasthan\")"
      ],
      "metadata": {
        "id": "f-UmuUunK7M7",
        "colab": {
          "base_uri": "https://localhost:8080/"
        },
        "outputId": "cbef8aa3-6c87-4471-ef56-fb47e9f3482c"
      },
      "execution_count": null,
      "outputs": [
        {
          "output_type": "stream",
          "name": "stdout",
          "text": [
            "Object 1 is being destroyed\n"
          ]
        }
      ]
    },
    {
      "cell_type": "code",
      "source": [
        "obj1.display_address()"
      ],
      "metadata": {
        "colab": {
          "base_uri": "https://localhost:8080/"
        },
        "id": "VIB0RlQ0LNmy",
        "outputId": "99121c1b-1e1a-48bf-ab8d-027fbddc60ff"
      },
      "execution_count": null,
      "outputs": [
        {
          "output_type": "stream",
          "name": "stdout",
          "text": [
            "the address is Rajasthan\n"
          ]
        }
      ]
    },
    {
      "cell_type": "code",
      "source": [
        "## Differentiate between single inheritance and multiple inheritance in Python. Provide examples for each."
      ],
      "metadata": {
        "id": "30xygbawYfjJ"
      },
      "execution_count": null,
      "outputs": []
    },
    {
      "cell_type": "markdown",
      "source": [
        "In single ingeritance, a sub class inherits attributes and methods from single superclasse.\n",
        "\n",
        "Example"
      ],
      "metadata": {
        "id": "-JcaFSMpYgUt"
      }
    },
    {
      "cell_type": "code",
      "source": [
        "\n",
        "class School:\n",
        "\n",
        "\n",
        "\n",
        "    def display(self):\n",
        "      print(\"this function will you student details\")\n",
        "      print(f\"the name of the student is {self.name}\")\n",
        "      print(f\"the age of the student is {self.age}\")\n",
        "\n",
        "\n",
        "class student(School):\n",
        "  def __init__(self, name, age):\n",
        "    self.name = name\n",
        "    self.age = age\n"
      ],
      "metadata": {
        "id": "QMN8yLaQY7hZ"
      },
      "execution_count": null,
      "outputs": []
    },
    {
      "cell_type": "code",
      "source": [
        "stu = student(\"amit\", 33)\n"
      ],
      "metadata": {
        "id": "zant6lxiaBUq"
      },
      "execution_count": null,
      "outputs": []
    },
    {
      "cell_type": "code",
      "source": [
        "stu.display()"
      ],
      "metadata": {
        "colab": {
          "base_uri": "https://localhost:8080/"
        },
        "id": "m8zgSG9saW9i",
        "outputId": "ea111b37-2fdd-4d9b-9144-deb9b9369113"
      },
      "execution_count": null,
      "outputs": [
        {
          "output_type": "stream",
          "name": "stdout",
          "text": [
            "this function will you student details\n",
            "the name of the student is amit\n",
            "the age of the student is 33\n"
          ]
        }
      ]
    },
    {
      "cell_type": "markdown",
      "source": [
        "In multiple, a sub class inherits attributes and methods from multiple superclasses\n",
        "\n",
        "Example"
      ],
      "metadata": {
        "id": "Ds4CQN_RasZY"
      }
    },
    {
      "cell_type": "code",
      "source": [
        "class School:\n",
        "    def display(self):\n",
        "        print(\"this function will display student details\")\n",
        "        print(f\"the name of the student is {self.name}\")\n",
        "        print(f\"the age of the student is {self.age}\")\n",
        "        print(f\"the city of the school is {self.city_name}\")\n",
        "\n",
        "\n",
        "class City:\n",
        "    def __init__(self, city_name):\n",
        "        self.city_name = city_name\n",
        "\n",
        "\n",
        "class Student(School, City):\n",
        "    def __init__(self, name, age, city_name):\n",
        "        School.__init__(self)  # Initialize the School class\n",
        "        City.__init__(self, city_name)  # Initialize the City class\n",
        "        self.name = name\n",
        "        self.age = age\n",
        "\n",
        "\n",
        "# Example usage\n",
        "student1 = Student(name=\"John\", age=15, city_name=\"New York\")\n",
        "student1.display()\n"
      ],
      "metadata": {
        "colab": {
          "base_uri": "https://localhost:8080/"
        },
        "id": "YT70uWo2IWJ0",
        "outputId": "3b5e03f9-ae8a-4d72-a01a-b69189d62812"
      },
      "execution_count": null,
      "outputs": [
        {
          "output_type": "stream",
          "name": "stdout",
          "text": [
            "this function will display student details\n",
            "the name of the student is John\n",
            "the age of the student is 15\n",
            "the city of the school is New York\n"
          ]
        }
      ]
    },
    {
      "cell_type": "code",
      "source": [
        "## Create a Python class called `Vehicle` with attributes `color` and `speed`. Then, create a child class called `Car` that inherits from `Vehicle` and adds a `brand` attribute. Provide an example of creating a `Car` object."
      ],
      "metadata": {
        "id": "B1O3KiepKv8s"
      },
      "execution_count": null,
      "outputs": []
    },
    {
      "cell_type": "code",
      "source": [
        "class Vehicle:\n",
        "\n",
        "  def __init__(self, color, speed):\n",
        "    self.color = color\n",
        "    self.speed = speed\n",
        "\n",
        "  def display_details(self):\n",
        "    print(self.color)\n",
        "    print(self.speed)\n",
        "    print(self.brand_name)\n",
        "\n",
        "\n",
        "\n",
        "class Car(Vehicle):\n",
        "\n",
        "  def __init__(self, color, speed, brand_name):\n",
        "    super().__init__(color, speed)\n",
        "    self.brand_name = brand_name\n",
        "\n",
        "\n",
        "\n",
        "\n"
      ],
      "metadata": {
        "id": "JcVTJ0wwLJI0"
      },
      "execution_count": null,
      "outputs": []
    },
    {
      "cell_type": "code",
      "source": [
        "obj_car = Car(\"White\", \"30km/hr\", \"Maruti\")"
      ],
      "metadata": {
        "id": "Ce7g088FPvtL"
      },
      "execution_count": null,
      "outputs": []
    },
    {
      "cell_type": "code",
      "source": [
        "obj_car.display_details()"
      ],
      "metadata": {
        "colab": {
          "base_uri": "https://localhost:8080/"
        },
        "id": "G5TFta4bQRoN",
        "outputId": "1538ba83-c336-4a9a-af16-66a6978330d4"
      },
      "execution_count": null,
      "outputs": [
        {
          "output_type": "stream",
          "name": "stdout",
          "text": [
            "White\n",
            "30km/hr\n",
            "Maruti\n"
          ]
        }
      ]
    },
    {
      "cell_type": "code",
      "source": [
        "## 4. Explain the concept of method overriding in inheritance. Provide a practical example."
      ],
      "metadata": {
        "id": "XWBTD7IFQXkV"
      },
      "execution_count": null,
      "outputs": []
    },
    {
      "cell_type": "markdown",
      "source": [
        "Method overriding is a concept in object-oriented programming (OOP) where a subclass provides a specific implementation for a method that is already defined in its superclass. This allows a subclass to provide its own version of a method while maintaining the same method signature as the superclass."
      ],
      "metadata": {
        "id": "RuE6lVBVReEi"
      }
    },
    {
      "cell_type": "code",
      "source": [
        "class Animal:\n",
        "\n",
        "  def zoo_details(self):\n",
        "    print(\"the zoo is in Delhi\")\n",
        "\n",
        "\n",
        "class Dog(Animal):\n",
        "  def zoo_details(self):\n",
        "    print(\"the zoo is in Indore\")\n",
        "\n",
        "class Cat(Animal):\n",
        "  def zoo_details(self):\n",
        "    print(\"the zoo is in chennai\")\n"
      ],
      "metadata": {
        "id": "Y4hKrrRJRgPl"
      },
      "execution_count": null,
      "outputs": []
    },
    {
      "cell_type": "code",
      "source": [
        "obj_dog = Dog()\n",
        "obj_cat = Cat()"
      ],
      "metadata": {
        "id": "IvqoflRES540"
      },
      "execution_count": null,
      "outputs": []
    },
    {
      "cell_type": "code",
      "source": [
        "obj_dog.zoo_details()"
      ],
      "metadata": {
        "colab": {
          "base_uri": "https://localhost:8080/"
        },
        "id": "TWrD95I-TOCd",
        "outputId": "dd1f3d30-865e-45b5-a304-92b21772b1f4"
      },
      "execution_count": null,
      "outputs": [
        {
          "output_type": "stream",
          "name": "stdout",
          "text": [
            "the zoo is in Indore\n"
          ]
        }
      ]
    },
    {
      "cell_type": "code",
      "source": [
        "obj_cat.zoo_details()"
      ],
      "metadata": {
        "id": "0oLh8LQjTXwN",
        "outputId": "1099ac67-4585-4d58-eca0-0896ab413ad9",
        "colab": {
          "base_uri": "https://localhost:8080/"
        }
      },
      "execution_count": null,
      "outputs": [
        {
          "output_type": "stream",
          "name": "stdout",
          "text": [
            "the zoo is in chennai\n"
          ]
        }
      ]
    },
    {
      "cell_type": "code",
      "source": [
        "## 7. Create a Python class called `Animal` with a method `speak()`. Then, create child classes `Dog` and `Cat` that inherit from `Animal` and override the `speak()` method. Provide an example of using these classes."
      ],
      "metadata": {
        "id": "QijZw1DPTdOV"
      },
      "execution_count": null,
      "outputs": []
    },
    {
      "cell_type": "code",
      "source": [
        "class Animal :\n",
        "\n",
        "  def speak(self):\n",
        "    print(\"general voice of animal\")\n",
        "\n",
        "class Dog(Animal):\n",
        "  def speak(self):\n",
        "    print(\"Voice of Dog\")\n",
        "\n",
        "class Cat(Animal):\n",
        "  def speak(self):\n",
        "    print(\"Voice of Cat\")\n"
      ],
      "metadata": {
        "id": "pBeukvuupJ5I"
      },
      "execution_count": null,
      "outputs": []
    },
    {
      "cell_type": "code",
      "source": [
        "obj_Dog = Dog()\n",
        "obj_Cat = Cat()"
      ],
      "metadata": {
        "id": "1uPj-Hq6qFnZ"
      },
      "execution_count": null,
      "outputs": []
    },
    {
      "cell_type": "code",
      "source": [
        "obj_Dog.speak()"
      ],
      "metadata": {
        "colab": {
          "base_uri": "https://localhost:8080/"
        },
        "id": "vH_5qBOSqOnm",
        "outputId": "574b16db-19c0-429b-d7bb-284c02b655d5"
      },
      "execution_count": null,
      "outputs": [
        {
          "output_type": "stream",
          "name": "stdout",
          "text": [
            "Voice of Dog\n"
          ]
        }
      ]
    },
    {
      "cell_type": "code",
      "source": [
        "obj_Cat.speak()"
      ],
      "metadata": {
        "colab": {
          "base_uri": "https://localhost:8080/"
        },
        "id": "n2vP_Xtiruv-",
        "outputId": "b49a38df-6c0b-4031-b72f-040164c4d263"
      },
      "execution_count": null,
      "outputs": [
        {
          "output_type": "stream",
          "name": "stdout",
          "text": [
            "Voice of Cat\n"
          ]
        }
      ]
    },
    {
      "cell_type": "code",
      "source": [
        "## Explain the role of the `isinstance()` function in Python and how it relates to inheritance."
      ],
      "metadata": {
        "id": "a7Zvq-hpr4QG"
      },
      "execution_count": null,
      "outputs": []
    },
    {
      "cell_type": "markdown",
      "source": [
        "The isinstance() function in Python is used to check if an object belongs to a particular class or a tuple of classes. It is primarily used for type checking and is particularly useful when dealing with inheritance.\n",
        "\n",
        "The basic syntax of isinstance() is as follows:\n",
        "\n",
        "isinstance(object, classinfo)"
      ],
      "metadata": {
        "id": "CaaGXivLuMX2"
      }
    },
    {
      "cell_type": "code",
      "source": [
        "## Example:\n",
        "\n",
        "class Animal:\n",
        "  pass\n",
        "\n",
        "class Dog(Animal):\n",
        "  pass\n",
        "\n",
        "class Cat:\n",
        "  pass\n",
        "\n"
      ],
      "metadata": {
        "id": "fLWIs9Ykr-Ku"
      },
      "execution_count": null,
      "outputs": []
    },
    {
      "cell_type": "code",
      "source": [
        "ob1 = Dog()\n",
        "ob2 = Cat()"
      ],
      "metadata": {
        "id": "r3U5aYFeussv"
      },
      "execution_count": null,
      "outputs": []
    },
    {
      "cell_type": "code",
      "source": [
        "isinstance(ob1, Animal)"
      ],
      "metadata": {
        "colab": {
          "base_uri": "https://localhost:8080/"
        },
        "id": "FjhAMt4Wu0ov",
        "outputId": "1237f3bb-e2d2-491e-fcdf-8ececab4de47"
      },
      "execution_count": null,
      "outputs": [
        {
          "output_type": "execute_result",
          "data": {
            "text/plain": [
              "True"
            ]
          },
          "metadata": {},
          "execution_count": 84
        }
      ]
    },
    {
      "cell_type": "code",
      "source": [
        "isinstance(ob1, Cat)"
      ],
      "metadata": {
        "colab": {
          "base_uri": "https://localhost:8080/"
        },
        "id": "Wrh9FAiRu6UY",
        "outputId": "5a6c56eb-6e37-4bb7-e5ff-117f4f83e86e"
      },
      "execution_count": null,
      "outputs": [
        {
          "output_type": "execute_result",
          "data": {
            "text/plain": [
              "False"
            ]
          },
          "metadata": {},
          "execution_count": 85
        }
      ]
    },
    {
      "cell_type": "code",
      "source": [
        "## What is the purpose of the `issubclass()` function in Python? Provide an example."
      ],
      "metadata": {
        "id": "7V71ubnMu-JW"
      },
      "execution_count": null,
      "outputs": []
    },
    {
      "cell_type": "markdown",
      "source": [
        "The issubclass() function in Python is used to check whether a class is a subclass of another class. It helps in determining the inheritance relationship between two classes. The basic syntax\n",
        "\n",
        "issubclass(class, classinfo)\n",
        "\n",
        "class - Subclass\n",
        "classinfor : A class or a tuple of classes against which the potential subclass is checked."
      ],
      "metadata": {
        "id": "IZ8F2wRbxAMa"
      }
    },
    {
      "cell_type": "code",
      "source": [
        "## Example:\n",
        "class Animal:\n",
        "  pass\n",
        "\n",
        "class Dog(Animal):\n",
        "  pass\n",
        "\n",
        "class Cat:\n",
        "  pass\n"
      ],
      "metadata": {
        "id": "pthNPuWzvG4u"
      },
      "execution_count": null,
      "outputs": []
    },
    {
      "cell_type": "code",
      "source": [
        " issubclass(Dog, Animal)"
      ],
      "metadata": {
        "colab": {
          "base_uri": "https://localhost:8080/"
        },
        "id": "VY9ZiQKDxfJP",
        "outputId": "03f34885-c266-4042-b66c-1089dc3b652d"
      },
      "execution_count": null,
      "outputs": [
        {
          "output_type": "execute_result",
          "data": {
            "text/plain": [
              "True"
            ]
          },
          "metadata": {},
          "execution_count": 88
        }
      ]
    },
    {
      "cell_type": "code",
      "source": [
        "## Discuss the concept of constructor inheritance in Python. How are constructors inherited in child classes?"
      ],
      "metadata": {
        "id": "NpTo6JytxkK3"
      },
      "execution_count": null,
      "outputs": []
    },
    {
      "cell_type": "markdown",
      "source": [
        "Child classes automatically inherit constructors from their parent classes, though they can customize this behavior.When you create an object of a child class, Python implicitly calls the parent class's __init__() method first, ensuring proper initialization of inherited attributes.If the child class defines its own __init__() method, it overrides the parent's constructor. However, you can still explicitly call the parent's constructor using super()"
      ],
      "metadata": {
        "id": "glQJ490-4nxd"
      }
    },
    {
      "cell_type": "code",
      "source": [
        "# Example\n",
        "\n",
        "class Person :\n",
        "\n",
        "  def __init__(self, name , age):\n",
        "    self.name = name\n",
        "    self.age = age\n",
        "\n",
        "\n",
        "class employee(Person):\n",
        "\n",
        "  def __init__(self, name, age, salary):\n",
        "    super().__init__(name, age)\n",
        "    self.salary = salary"
      ],
      "metadata": {
        "id": "5na-yvQ05EVr"
      },
      "execution_count": null,
      "outputs": []
    },
    {
      "cell_type": "code",
      "source": [
        "obj_emp = employee(\"Niks\", 23, 25000)"
      ],
      "metadata": {
        "id": "vRxB8Y0o7WrW"
      },
      "execution_count": null,
      "outputs": []
    },
    {
      "cell_type": "code",
      "source": [
        "obj_emp.age"
      ],
      "metadata": {
        "colab": {
          "base_uri": "https://localhost:8080/"
        },
        "id": "x1ae5Y6W7buN",
        "outputId": "debcfa26-c702-4ca3-b107-834a10ea4145"
      },
      "execution_count": null,
      "outputs": [
        {
          "output_type": "execute_result",
          "data": {
            "text/plain": [
              "23"
            ]
          },
          "metadata": {},
          "execution_count": 92
        }
      ]
    },
    {
      "cell_type": "code",
      "source": [
        "# Create a Python class called `Shape` with a method `area()` that calculates the area of a shape. Then, create child classes `Circle` and `Rectangle` that inherit from `Shape` and implement the `area()` method accordingly. Provide an example."
      ],
      "metadata": {
        "id": "83BWFUGX7lV0"
      },
      "execution_count": null,
      "outputs": []
    },
    {
      "cell_type": "code",
      "source": [
        "class Shape:\n",
        "\n",
        "  def __init__(self, length, breadth,radius):\n",
        "    self.length = length\n",
        "    self.breadth = breadth\n",
        "    self.radius = radius\n",
        "\n",
        "  def Area_of_Shape(self):\n",
        "\n",
        "    print(\"the area of rectangle is \", self.length * self.breadth)\n",
        "    print(\"the area of circle is\", 3.14*self.radius*self.radius)\n",
        "\n",
        "class Circle(Shape):\n",
        "\n",
        "  def __init__(self, radius):\n",
        "    super().__init__(0, 0, radius)\n",
        "\n",
        "  def Area_of_Shape(self):\n",
        "    return super().Area_of_Shape()\n",
        "\n",
        "\n",
        "class Rectangle(Shape):\n",
        "\n",
        "  def __init__(self, length, breadth):\n",
        "    super().__init__(length,breadth,0)\n",
        "\n",
        "  def Area_of_Shape(self):\n",
        "    return super().Area_of_Shape()\n",
        "\n",
        "\n"
      ],
      "metadata": {
        "id": "QYSl1_0L7xuk"
      },
      "execution_count": null,
      "outputs": []
    },
    {
      "cell_type": "code",
      "source": [
        "obj_circle = Circle(2)\n",
        "obj_Rec = Rectangle(3,4)"
      ],
      "metadata": {
        "id": "43NefRFJ9VQs"
      },
      "execution_count": null,
      "outputs": []
    },
    {
      "cell_type": "code",
      "source": [
        "obj_circle.Area_of_Shape()"
      ],
      "metadata": {
        "colab": {
          "base_uri": "https://localhost:8080/"
        },
        "id": "4ODGBDR8-MV8",
        "outputId": "41846a04-f034-4daf-dd95-16f36e80f5e4"
      },
      "execution_count": null,
      "outputs": [
        {
          "output_type": "stream",
          "name": "stdout",
          "text": [
            "the area of rectangle is  0\n",
            "the area of circle is 12.56\n"
          ]
        }
      ]
    },
    {
      "cell_type": "code",
      "source": [
        "obj_Rec.Area_of_Shape()"
      ],
      "metadata": {
        "colab": {
          "base_uri": "https://localhost:8080/"
        },
        "id": "Oxjgk1pi-P4M",
        "outputId": "d993ba48-a376-4da9-96a7-af21375cefec"
      },
      "execution_count": null,
      "outputs": [
        {
          "output_type": "stream",
          "name": "stdout",
          "text": [
            "the area of rectangle is  12\n",
            "the area of circle is 0.0\n"
          ]
        }
      ]
    },
    {
      "cell_type": "code",
      "source": [
        "# Explain the use of abstract base classes (ABCs) in Python and how they relate to inheritance. Provide an example using the `abc` module."
      ],
      "metadata": {
        "id": "Wt02NcwE_dCt"
      },
      "execution_count": null,
      "outputs": []
    },
    {
      "cell_type": "markdown",
      "source": [
        "Abstract Base Classes (ABCs) in Python provide a way to define a common interface for a group of related classes. They are used to enforce a certain set of methods that must be implemented by any concrete class derived from the abstract base class. ABCs help in achieving a form of structural typing in Python, where the focus is on the methods a class should have rather than its actual inheritance hierarchy."
      ],
      "metadata": {
        "id": "G1kLNXe_E-2z"
      }
    },
    {
      "cell_type": "code",
      "source": [
        "# Example\n",
        "\n"
      ],
      "metadata": {
        "id": "V-6-K7RHFMns"
      },
      "execution_count": null,
      "outputs": []
    },
    {
      "cell_type": "code",
      "source": [
        "from abc import ABC, abstractmethod\n",
        "\n",
        "# Define an abstract base class\n",
        "class Shape(ABC):\n",
        "\n",
        "    @abstractmethod\n",
        "    def area(self):\n",
        "        pass\n",
        "\n",
        "    @abstractmethod\n",
        "    def perimeter(self):\n",
        "        pass\n",
        "\n",
        "# Create a concrete class that inherits from the abstract base class\n",
        "class Square(Shape):\n",
        "\n",
        "    def __init__(self, side):\n",
        "        self.side = side\n",
        "\n",
        "    def area(self):\n",
        "        return self.side ** 2\n",
        "\n",
        "    def perimeter(self):\n",
        "        return 4 * self.side\n",
        "\n",
        "# Create another concrete class that inherits from the abstract base class\n",
        "class Circle(Shape):\n",
        "\n",
        "    def __init__(self, radius):\n",
        "        self.radius = radius\n",
        "\n",
        "    def area(self):\n",
        "        return 3.14 * self.radius ** 2\n",
        "\n",
        "    def perimeter(self):\n",
        "        return 2 * 3.14 * self.radius\n",
        "\n",
        "# Try to create an instance of the abstract base class (will raise an error)\n",
        "try:\n",
        "    shape = Shape()  # Raises TypeError: Can't instantiate abstract class Shape with abstract methods area, perimeter\n",
        "except TypeError as e:\n",
        "    print(f\"Error: {e}\")\n",
        "\n",
        "# Create instances of the concrete classes\n",
        "square = Square(5)\n",
        "circle = Circle(3)\n",
        "\n",
        "# Use the methods provided by the abstract base class\n",
        "print(f\"Square Area: {square.area()}, Perimeter: {square.perimeter()}\")\n",
        "print(f\"Circle Area: {circle.area()}, Perimeter: {circle.perimeter()}\")\n"
      ],
      "metadata": {
        "colab": {
          "base_uri": "https://localhost:8080/"
        },
        "id": "pUD_5M4RFPoJ",
        "outputId": "3f7cad92-18fc-483c-9fe8-8eea6a46c6aa"
      },
      "execution_count": null,
      "outputs": [
        {
          "output_type": "stream",
          "name": "stdout",
          "text": [
            "Error: Can't instantiate abstract class Shape with abstract methods area, perimeter\n",
            "Square Area: 25, Perimeter: 20\n",
            "Circle Area: 28.26, Perimeter: 18.84\n"
          ]
        }
      ]
    },
    {
      "cell_type": "code",
      "source": [
        "## How can you prevent a child class from modifying certain attributes or methods inherited from a parent class in Python?\n"
      ],
      "metadata": {
        "id": "bYFYQR-8FpxC"
      },
      "execution_count": null,
      "outputs": []
    },
    {
      "cell_type": "markdown",
      "source": [
        "A child class can be prevented from  modifying certain attributes or methods inherited from a parent class by below ways\n",
        "\n",
        "1. Private Attributes/Methods:\n",
        "\n"
      ],
      "metadata": {
        "id": "6C_8DlEUHUso"
      }
    },
    {
      "cell_type": "code",
      "source": [
        "#example\n",
        "\n",
        "class Shape:\n",
        "\n",
        "  def __init__(self, length, breadth,radius):\n",
        "    self.length = length\n",
        "    self.breadth = breadth\n",
        "    self.__radius = radius ## Declaring radius as private\n",
        "\n",
        "  def Area_of_Shape(self):\n",
        "\n",
        "    print(\"the area of rectangle is \", self.length * self.breadth)\n",
        "    print(\"the area of circle is\", 3.14*self.radius*self.radius)\n",
        "\n",
        "class Circle(Shape):\n",
        "\n",
        "  def __init__(self, radius):\n",
        "    super().__init__(0, 0, radius)\n",
        "\n",
        "  def Area_of_Shape(self):\n",
        "    return super().Area_of_Shape()\n"
      ],
      "metadata": {
        "id": "AfvVfrnmHk_M"
      },
      "execution_count": null,
      "outputs": []
    },
    {
      "cell_type": "code",
      "source": [
        "obj_circle = Circle(3)"
      ],
      "metadata": {
        "id": "iNkozKVVHzMX"
      },
      "execution_count": null,
      "outputs": []
    },
    {
      "cell_type": "code",
      "source": [
        "obj_circle.Area_of_Shape() ## as radius is now private variable and it cannot be accessed by circle class directly"
      ],
      "metadata": {
        "colab": {
          "base_uri": "https://localhost:8080/",
          "height": 338
        },
        "id": "ub-hGKNcH6wI",
        "outputId": "67453b73-0f63-4cb8-f137-1b725a3f891b"
      },
      "execution_count": null,
      "outputs": [
        {
          "output_type": "stream",
          "name": "stdout",
          "text": [
            "the area of rectangle is  0\n"
          ]
        },
        {
          "output_type": "error",
          "ename": "AttributeError",
          "evalue": "'Circle' object has no attribute 'radius'",
          "traceback": [
            "\u001b[0;31m---------------------------------------------------------------------------\u001b[0m",
            "\u001b[0;31mAttributeError\u001b[0m                            Traceback (most recent call last)",
            "\u001b[0;32m<ipython-input-104-ef878d27624f>\u001b[0m in \u001b[0;36m<cell line: 1>\u001b[0;34m()\u001b[0m\n\u001b[0;32m----> 1\u001b[0;31m \u001b[0mobj_circle\u001b[0m\u001b[0;34m.\u001b[0m\u001b[0mArea_of_Shape\u001b[0m\u001b[0;34m(\u001b[0m\u001b[0;34m)\u001b[0m \u001b[0;31m## as radius is now private variable and it cannot be accessed by circle class directly\u001b[0m\u001b[0;34m\u001b[0m\u001b[0;34m\u001b[0m\u001b[0m\n\u001b[0m",
            "\u001b[0;32m<ipython-input-102-52ea3bb83d21>\u001b[0m in \u001b[0;36mArea_of_Shape\u001b[0;34m(self)\u001b[0m\n\u001b[1;32m     19\u001b[0m \u001b[0;34m\u001b[0m\u001b[0m\n\u001b[1;32m     20\u001b[0m   \u001b[0;32mdef\u001b[0m \u001b[0mArea_of_Shape\u001b[0m\u001b[0;34m(\u001b[0m\u001b[0mself\u001b[0m\u001b[0;34m)\u001b[0m\u001b[0;34m:\u001b[0m\u001b[0;34m\u001b[0m\u001b[0;34m\u001b[0m\u001b[0m\n\u001b[0;32m---> 21\u001b[0;31m     \u001b[0;32mreturn\u001b[0m \u001b[0msuper\u001b[0m\u001b[0;34m(\u001b[0m\u001b[0;34m)\u001b[0m\u001b[0;34m.\u001b[0m\u001b[0mArea_of_Shape\u001b[0m\u001b[0;34m(\u001b[0m\u001b[0;34m)\u001b[0m\u001b[0;34m\u001b[0m\u001b[0;34m\u001b[0m\u001b[0m\n\u001b[0m",
            "\u001b[0;32m<ipython-input-102-52ea3bb83d21>\u001b[0m in \u001b[0;36mArea_of_Shape\u001b[0;34m(self)\u001b[0m\n\u001b[1;32m     11\u001b[0m \u001b[0;34m\u001b[0m\u001b[0m\n\u001b[1;32m     12\u001b[0m     \u001b[0mprint\u001b[0m\u001b[0;34m(\u001b[0m\u001b[0;34m\"the area of rectangle is \"\u001b[0m\u001b[0;34m,\u001b[0m \u001b[0mself\u001b[0m\u001b[0;34m.\u001b[0m\u001b[0mlength\u001b[0m \u001b[0;34m*\u001b[0m \u001b[0mself\u001b[0m\u001b[0;34m.\u001b[0m\u001b[0mbreadth\u001b[0m\u001b[0;34m)\u001b[0m\u001b[0;34m\u001b[0m\u001b[0;34m\u001b[0m\u001b[0m\n\u001b[0;32m---> 13\u001b[0;31m     \u001b[0mprint\u001b[0m\u001b[0;34m(\u001b[0m\u001b[0;34m\"the area of circle is\"\u001b[0m\u001b[0;34m,\u001b[0m \u001b[0;36m3.14\u001b[0m\u001b[0;34m*\u001b[0m\u001b[0mself\u001b[0m\u001b[0;34m.\u001b[0m\u001b[0mradius\u001b[0m\u001b[0;34m*\u001b[0m\u001b[0mself\u001b[0m\u001b[0;34m.\u001b[0m\u001b[0mradius\u001b[0m\u001b[0;34m)\u001b[0m\u001b[0;34m\u001b[0m\u001b[0;34m\u001b[0m\u001b[0m\n\u001b[0m\u001b[1;32m     14\u001b[0m \u001b[0;34m\u001b[0m\u001b[0m\n\u001b[1;32m     15\u001b[0m \u001b[0;32mclass\u001b[0m \u001b[0mCircle\u001b[0m\u001b[0;34m(\u001b[0m\u001b[0mShape\u001b[0m\u001b[0;34m)\u001b[0m\u001b[0;34m:\u001b[0m\u001b[0;34m\u001b[0m\u001b[0;34m\u001b[0m\u001b[0m\n",
            "\u001b[0;31mAttributeError\u001b[0m: 'Circle' object has no attribute 'radius'"
          ]
        }
      ]
    },
    {
      "cell_type": "code",
      "source": [
        "## 14. Create a Python class called `Employee` with attributes `name` and `salary`. Then, create a child class`Manager` that inherits from `Employee` and adds an attribute `department`. Provide an example."
      ],
      "metadata": {
        "id": "6I_SgQlUIBIB"
      },
      "execution_count": null,
      "outputs": []
    },
    {
      "cell_type": "code",
      "source": [
        "class Employee:\n",
        "\n",
        "  def __init__(self, name, salary):\n",
        "\n",
        "    self.name = name\n",
        "    self.salary = salary\n",
        "\n",
        "class Manager(Employee):\n",
        "\n",
        "    def __init__(self, name , salary, department):\n",
        "      super().__init__(name, salary)\n",
        "      self.department = department\n",
        "\n"
      ],
      "metadata": {
        "id": "SU8dYmH7S_ur"
      },
      "execution_count": null,
      "outputs": []
    },
    {
      "cell_type": "code",
      "source": [
        "obj_manager = Manager(\"Amit\", 68000, \"Research\")"
      ],
      "metadata": {
        "id": "0wSBpjhOV3IF"
      },
      "execution_count": null,
      "outputs": []
    },
    {
      "cell_type": "code",
      "source": [
        "obj_manager.name"
      ],
      "metadata": {
        "colab": {
          "base_uri": "https://localhost:8080/",
          "height": 36
        },
        "id": "Q2RZjw_BWLi1",
        "outputId": "f0b7d487-aacb-4766-968f-272c68374986"
      },
      "execution_count": null,
      "outputs": [
        {
          "output_type": "execute_result",
          "data": {
            "text/plain": [
              "'Amit'"
            ],
            "application/vnd.google.colaboratory.intrinsic+json": {
              "type": "string"
            }
          },
          "metadata": {},
          "execution_count": 108
        }
      ]
    },
    {
      "cell_type": "code",
      "source": [
        "## 17. Create a Python class called `Bird` with a method `fly()`. Then, create child classes `Eagle` and `Sparrow` that inherit from `Bird` and implement the `fly()` method differently. Provide an example of using these classes."
      ],
      "metadata": {
        "id": "gLLUr275WOeV"
      },
      "execution_count": null,
      "outputs": []
    },
    {
      "cell_type": "code",
      "source": [
        "class Bird:\n",
        "\n",
        "  def fly(self):\n",
        "    print(\"Any bird can fly\")\n",
        "\n",
        "class Eagle(Bird):\n",
        "\n",
        "  def fly(self):\n",
        "    print(\"Eagle can fly\")\n",
        "\n",
        "class Sparrow(Bird):\n",
        "\n",
        "  def fly(self):\n",
        "    print(\"Sparrow can fly\")\n",
        "\n",
        "\n",
        "obj_Eagle = Eagle()\n",
        "obj_Sparrow = Sparrow()\n",
        "\n",
        "\n",
        "\n",
        "\n"
      ],
      "metadata": {
        "id": "9tFwkLs7co_v"
      },
      "execution_count": null,
      "outputs": []
    },
    {
      "cell_type": "code",
      "source": [
        "obj_Eagle.fly()"
      ],
      "metadata": {
        "colab": {
          "base_uri": "https://localhost:8080/"
        },
        "id": "PHa8FDhhH--v",
        "outputId": "a76f077c-ef0a-4cc1-90d0-9bcf8068a358"
      },
      "execution_count": null,
      "outputs": [
        {
          "output_type": "stream",
          "name": "stdout",
          "text": [
            "Eagle can fly\n"
          ]
        }
      ]
    },
    {
      "cell_type": "code",
      "source": [
        "\"\"\" Create a Python class hierarchy for a university system. Start with a base class `Person` and create child\n",
        "classes `Student` and `Professor`, each with their own attributes and methods. Provide an example of using\n",
        "these classes in a university context\"\"\""
      ],
      "metadata": {
        "colab": {
          "base_uri": "https://localhost:8080/",
          "height": 53
        },
        "id": "z9rphz-0IZFY",
        "outputId": "95614c02-7dbe-4681-dbbc-e2a40030f1d3"
      },
      "execution_count": null,
      "outputs": [
        {
          "output_type": "execute_result",
          "data": {
            "text/plain": [
              "' Create a Python class hierarchy for a university system. Start with a base class `Person` and create child\\nclasses `Student` and `Professor`, each with their own attributes and methods. Provide an example of using\\nthese classes in a university context'"
            ],
            "application/vnd.google.colaboratory.intrinsic+json": {
              "type": "string"
            }
          },
          "metadata": {},
          "execution_count": 112
        }
      ]
    },
    {
      "cell_type": "code",
      "source": [
        "class Person :\n",
        "\n",
        "  def __init__(self, name, age):\n",
        "    self.name = name\n",
        "    self.age = age\n",
        "\n",
        "  def introduce(self):\n",
        "    print(\"My name is \", self.name, \"and I am \", self.age, \"years old\")\n",
        "\n",
        "\n",
        "class Student(Person):\n",
        "\n",
        "  def __init__(self, name, age, subject):\n",
        "    super().__init__(name, age)\n",
        "    self.subject = subject\n",
        "\n",
        "  def enroll(self, course):\n",
        "    print( self.name, \"is enrolled in\", course)\n",
        "\n",
        "\n",
        "class Professor(Person):\n",
        "\n",
        "  def __init__(self, name, age, department):\n",
        "    super().__init__(name, age)\n",
        "    self.department = department\n",
        "\n",
        "  def teach(self, course):\n",
        "    print(self.name, \"is teaching\", course)\n"
      ],
      "metadata": {
        "id": "6e99pyfuIzII"
      },
      "execution_count": null,
      "outputs": []
    },
    {
      "cell_type": "code",
      "source": [
        "obj_stu = Student(\"Amit\", 33, \"Data Science\")\n"
      ],
      "metadata": {
        "id": "9AteDq3ULzu5"
      },
      "execution_count": null,
      "outputs": []
    },
    {
      "cell_type": "code",
      "source": [
        "obj_stu.introduce()"
      ],
      "metadata": {
        "colab": {
          "base_uri": "https://localhost:8080/"
        },
        "id": "E9VrEWNfMFav",
        "outputId": "b7817683-6d82-43ce-f8e1-17c1f6ccfe4d"
      },
      "execution_count": null,
      "outputs": [
        {
          "output_type": "stream",
          "name": "stdout",
          "text": [
            "My name is  Amit and I am  33 years old\n"
          ]
        }
      ]
    },
    {
      "cell_type": "code",
      "source": [
        "obj_stu.enroll(\"Computer Engineering\")"
      ],
      "metadata": {
        "id": "hK1PqIj5MJsX",
        "outputId": "d8118c09-816d-4358-ff58-8e78614cf2d3",
        "colab": {
          "base_uri": "https://localhost:8080/"
        }
      },
      "execution_count": null,
      "outputs": [
        {
          "output_type": "stream",
          "name": "stdout",
          "text": [
            "Amit is enrolled in Computer Engineering\n"
          ]
        }
      ]
    },
    {
      "cell_type": "markdown",
      "source": [
        "## Encapsulation"
      ],
      "metadata": {
        "id": "evJPmlnLXDIy"
      }
    },
    {
      "cell_type": "code",
      "source": [
        "## Explain the concept of encapsulation in Python. What is its role in object-oriented programming?"
      ],
      "metadata": {
        "id": "aIHzuUaoMPtI"
      },
      "execution_count": null,
      "outputs": []
    },
    {
      "cell_type": "markdown",
      "source": [
        "It's the principle of bundling data (attributes) and the methods that operate on that data together within a single unit, usually a class.\n",
        "It aims to protect data integrity and manage complexity by controlling access to certain parts of the object.\n",
        "\n",
        "Role in object-oriented programming\n",
        "\n",
        "Data Protection: Prevents accidental modifications and ensures data integrity.\n",
        "Modularity: Promotes code organization and reusability by making objects self-contained.\n",
        "Abstraction: Hides implementation details, making code easier to understand and maintain.\n",
        "Flexibility: Allows changes to internal implementation without affecting external code."
      ],
      "metadata": {
        "id": "aoHNYTiqXffo"
      }
    },
    {
      "cell_type": "code",
      "source": [
        "## Describe the key principles of encapsulation, including access control and data hiding.\n"
      ],
      "metadata": {
        "id": "uwMqKTvPZXKl"
      },
      "execution_count": null,
      "outputs": []
    },
    {
      "cell_type": "markdown",
      "source": [
        "1. Bundling Data and Methods:\n",
        "\n",
        "Encapsulation involves grouping related data (attributes) and the methods that operate on that data within a single unit, typically a class.\n",
        "This creates a self-contained object that manages its own state and behavior.\n",
        "\n",
        "2. Access Control:\n",
        "\n",
        "Python doesn't have explicit access modifiers like some other languages, but it employs conventions for controlling access:\n",
        "Private Members:\n",
        "Prefixed with __ (double underscore).\n",
        "Not directly accessible from outside the class.\n",
        "Accessible within the class and its methods.\n",
        "While not strictly enforced, the convention is strongly respected.\n",
        "Protected Members:\n",
        "Prefixed with _ (single underscore).\n",
        "Technically accessible from outside, but considered \"internal use only.\"\n",
        "Conventionally not accessed directly from outside the class or its subclasses.\n",
        "\n",
        "\n",
        "3. Data Hiding:\n",
        "\n",
        "Encapsulation conceals the internal implementation details of an object from external code.\n",
        "This is achieved primarily through the use of private variables.\n",
        "External code can only interact with the object through its public methods, which act as an interface."
      ],
      "metadata": {
        "id": "oF08oohFaR17"
      }
    },
    {
      "cell_type": "code",
      "source": [
        "# Create a Python class called `Person` with a private attribute `__name`. Provide methods to get and set the name attribute."
      ],
      "metadata": {
        "id": "QbgGQ1C0ab-W"
      },
      "execution_count": 1,
      "outputs": []
    },
    {
      "cell_type": "code",
      "source": [
        "class Person:\n",
        "\n",
        "  def __init__(self, name):\n",
        "    self.__name = name\n",
        "\n",
        "  def display(self):\n",
        "    print(\"it will display person name as\", self.__name)\n",
        ""
      ],
      "metadata": {
        "id": "Rm3yojO8ajjF"
      },
      "execution_count": 10,
      "outputs": []
    },
    {
      "cell_type": "code",
      "source": [
        "person = Person(\"Amit\")"
      ],
      "metadata": {
        "id": "tSxR5mjmbUfe"
      },
      "execution_count": 11,
      "outputs": []
    },
    {
      "cell_type": "code",
      "source": [
        "person.name"
      ],
      "metadata": {
        "colab": {
          "base_uri": "https://localhost:8080/",
          "height": 175
        },
        "id": "Cx8yH0YHbWz2",
        "outputId": "c23f4413-84bc-4bab-9b0d-0b90f5fe24e6"
      },
      "execution_count": 12,
      "outputs": [
        {
          "output_type": "error",
          "ename": "AttributeError",
          "evalue": "'Person' object has no attribute 'name'",
          "traceback": [
            "\u001b[0;31m---------------------------------------------------------------------------\u001b[0m",
            "\u001b[0;31mAttributeError\u001b[0m                            Traceback (most recent call last)",
            "\u001b[0;32m<ipython-input-12-4a0aadbdc566>\u001b[0m in \u001b[0;36m<cell line: 1>\u001b[0;34m()\u001b[0m\n\u001b[0;32m----> 1\u001b[0;31m \u001b[0mperson\u001b[0m\u001b[0;34m.\u001b[0m\u001b[0mname\u001b[0m\u001b[0;34m\u001b[0m\u001b[0;34m\u001b[0m\u001b[0m\n\u001b[0m",
            "\u001b[0;31mAttributeError\u001b[0m: 'Person' object has no attribute 'name'"
          ]
        }
      ]
    },
    {
      "cell_type": "code",
      "source": [
        "person.display()"
      ],
      "metadata": {
        "colab": {
          "base_uri": "https://localhost:8080/"
        },
        "id": "q548aWVFben2",
        "outputId": "a629658c-6cda-49b9-f4f0-dda0b0e48813"
      },
      "execution_count": 13,
      "outputs": [
        {
          "output_type": "stream",
          "name": "stdout",
          "text": [
            "it will display person name as Amit\n"
          ]
        }
      ]
    },
    {
      "cell_type": "code",
      "source": [
        "# 6. Explain the purpose of getter and setter methods in encapsulation. Provide examples."
      ],
      "metadata": {
        "id": "rgLuIf2Hbimu"
      },
      "execution_count": null,
      "outputs": []
    },
    {
      "cell_type": "markdown",
      "source": [
        "Getter and setter methods (also known as accessor and mutator methods) are used to control access to and modification of private variables within a class, upholding encapsulation principles.\n",
        "They provide a public interface for interacting with an object's data while maintaining its integrity and protecting it from direct external manipulation."
      ],
      "metadata": {
        "id": "IEBVit27NOFc"
      }
    },
    {
      "cell_type": "code",
      "source": [
        "#example\n",
        "\n",
        "class Person :\n",
        "\n",
        "  def __init__(self, name, age):\n",
        "    self.__name = name\n",
        "    self.__age = age\n",
        "\n",
        "  ## getter methods\n",
        "  def get_name(self):\n",
        "    return self.__name\n",
        "\n",
        "  def get_age(self):\n",
        "    return self.__age\n",
        "\n",
        "  ## setter methods\n",
        "  def set_name(self, new_name):\n",
        "    self.__name = new_name\n",
        "\n",
        "  def set_age(self, new_age):\n",
        "    if new_age>=0:\n",
        "      self.__age = new_age\n",
        "    else:\n",
        "      raise ValueError(\"Age cannot be negative\")\n",
        "\n",
        "\n"
      ],
      "metadata": {
        "id": "1uWDcn-HU5XD"
      },
      "execution_count": 6,
      "outputs": []
    },
    {
      "cell_type": "code",
      "source": [
        "p1 = Person(\"Amit\", 33)\n"
      ],
      "metadata": {
        "id": "sqoh6OG4Xh9w"
      },
      "execution_count": 7,
      "outputs": []
    },
    {
      "cell_type": "code",
      "source": [
        "p1.get_age()"
      ],
      "metadata": {
        "colab": {
          "base_uri": "https://localhost:8080/"
        },
        "id": "A55TvbtLXmF6",
        "outputId": "e9d398d1-6316-419d-e553-3c0e894a4b5a"
      },
      "execution_count": 4,
      "outputs": [
        {
          "output_type": "execute_result",
          "data": {
            "text/plain": [
              "33"
            ]
          },
          "metadata": {},
          "execution_count": 4
        }
      ]
    },
    {
      "cell_type": "code",
      "source": [
        "p1.get_name()"
      ],
      "metadata": {
        "colab": {
          "base_uri": "https://localhost:8080/",
          "height": 36
        },
        "id": "YQTfgQtAXtRB",
        "outputId": "c4a7840a-d599-4e78-975d-4180bab8940b"
      },
      "execution_count": 5,
      "outputs": [
        {
          "output_type": "execute_result",
          "data": {
            "text/plain": [
              "'Amit'"
            ],
            "application/vnd.google.colaboratory.intrinsic+json": {
              "type": "string"
            }
          },
          "metadata": {},
          "execution_count": 5
        }
      ]
    },
    {
      "cell_type": "code",
      "source": [
        "p1.set_age(3)"
      ],
      "metadata": {
        "id": "eI2fkqqJXvxa"
      },
      "execution_count": 9,
      "outputs": []
    },
    {
      "cell_type": "code",
      "source": [
        "p1.get_age()"
      ],
      "metadata": {
        "colab": {
          "base_uri": "https://localhost:8080/"
        },
        "id": "neynC4LcY8nB",
        "outputId": "7804f6cd-e939-46bf-9f6b-3610dc285b08"
      },
      "execution_count": 10,
      "outputs": [
        {
          "output_type": "execute_result",
          "data": {
            "text/plain": [
              "3"
            ]
          },
          "metadata": {},
          "execution_count": 10
        }
      ]
    },
    {
      "cell_type": "code",
      "source": [
        "# Create a Python class hierarchy for a school system, including classes for students, teachers, and courses, and implement encapsulation principles to protect sensitive information."
      ],
      "metadata": {
        "id": "09iwLYInZGcx"
      },
      "execution_count": 11,
      "outputs": []
    },
    {
      "cell_type": "code",
      "source": [
        "class school:\n",
        "\n",
        "  def __init__(self, school_name, school_city):\n",
        "\n",
        "    self.school_name = school_name\n",
        "    self.__school_city = school_city\n",
        "\n",
        "  def get_school_name(self):\n",
        "    return self.__school_name\n",
        "\n",
        "  def get_school_city(self):\n",
        "    return self.__school_city\n",
        "\n",
        "class student(school):\n",
        "\n",
        "  def __init__(self, stu_name, stu_age):\n",
        "    self.__stu_name = stu_name ## private\n",
        "    self.__stu_age = stu_age ## private\n",
        "\n",
        "\n",
        "  def get_stu_name(self):\n",
        "    return self.__stu_name\n",
        "\n",
        "\n",
        "class teachers(school):\n",
        "\n",
        "  def __init__(self, teacher_name, teacher_age):\n",
        "\n",
        "    self.__teacher_name = teacher_name\n",
        "    self.__teacher_age = teacher_age\n",
        "\n",
        "  def get_teacher_name(self):\n",
        "    return teacher_name\n",
        "\n"
      ],
      "metadata": {
        "id": "3q_QqvxQZkDS"
      },
      "execution_count": 28,
      "outputs": []
    },
    {
      "cell_type": "code",
      "source": [
        "stu =student(\"Amit\", 33)"
      ],
      "metadata": {
        "id": "qO_hC_2jfEHj"
      },
      "execution_count": 24,
      "outputs": []
    },
    {
      "cell_type": "code",
      "source": [
        "sch = school(\"St Anslems\", \"Manav Pradesh\")"
      ],
      "metadata": {
        "id": "rAhKxtu0fM3U"
      },
      "execution_count": 25,
      "outputs": []
    },
    {
      "cell_type": "code",
      "source": [
        "sch.school_name"
      ],
      "metadata": {
        "colab": {
          "base_uri": "https://localhost:8080/",
          "height": 36
        },
        "id": "__50TA1jfpXB",
        "outputId": "55cf4801-b1df-4a75-f1fa-426f3897c188"
      },
      "execution_count": 27,
      "outputs": [
        {
          "output_type": "execute_result",
          "data": {
            "text/plain": [
              "'St Anslems'"
            ],
            "application/vnd.google.colaboratory.intrinsic+json": {
              "type": "string"
            }
          },
          "metadata": {},
          "execution_count": 27
        }
      ]
    },
    {
      "cell_type": "code",
      "source": [
        "# 14. Create a Python class called `Employee` with private attributes for salary (`__salary`) and employee ID (`__employee_id`). Provide a method to calculate yearly bonuses."
      ],
      "metadata": {
        "id": "ssim-gUXia__"
      },
      "execution_count": 31,
      "outputs": []
    },
    {
      "cell_type": "code",
      "source": [
        "class Employee:\n",
        "\n",
        "  def __init__(self, salary, employee_id):\n",
        "    self.__salary = salary\n",
        "    self.__employee_id = employee_id\n",
        "\n",
        "\n",
        "  def get_salary(self):\n",
        "    return self.__salary\n",
        "\n",
        "  def bonus(self):\n",
        "    self.bonus = 0.1 * self.__salary\n",
        "    print(\"The bonus of the employee is\",  self.bonus)\n",
        "\n"
      ],
      "metadata": {
        "id": "gfMK4tljigYT"
      },
      "execution_count": 50,
      "outputs": []
    },
    {
      "cell_type": "code",
      "source": [
        "employee = Employee(965000, 8024123)"
      ],
      "metadata": {
        "id": "uynnlTPp26vn"
      },
      "execution_count": 55,
      "outputs": []
    },
    {
      "cell_type": "code",
      "source": [
        "employee.get_salary()"
      ],
      "metadata": {
        "colab": {
          "base_uri": "https://localhost:8080/"
        },
        "id": "DmTNm5W93wSw",
        "outputId": "969683a1-fbc6-4de7-e3d6-6d6420877e79"
      },
      "execution_count": 56,
      "outputs": [
        {
          "output_type": "execute_result",
          "data": {
            "text/plain": [
              "965000"
            ]
          },
          "metadata": {},
          "execution_count": 56
        }
      ]
    },
    {
      "cell_type": "code",
      "source": [
        "employee.bonus()"
      ],
      "metadata": {
        "colab": {
          "base_uri": "https://localhost:8080/"
        },
        "id": "aI28C9R_39oh",
        "outputId": "5bffb324-de77-4364-8c20-b9e8d0a8103f"
      },
      "execution_count": 57,
      "outputs": [
        {
          "output_type": "stream",
          "name": "stdout",
          "text": [
            "The bonus of the employee is 96500.0\n"
          ]
        }
      ]
    },
    {
      "cell_type": "code",
      "source": [
        "## Create a Python class for a library system that encapsulates book information, including titles, authors, and availability status."
      ],
      "metadata": {
        "id": "LyWBRl0Z49jw"
      },
      "execution_count": 59,
      "outputs": []
    },
    {
      "cell_type": "code",
      "source": [
        "class library :\n",
        "\n",
        "  def __init__(self, book_title, book_author):\n",
        "    self.__book_title = book_title\n",
        "    self.__book_author = book_author\n",
        "\n",
        "\n",
        "  def get_book_title(self):\n",
        "    return self.__book_title\n",
        "\n",
        "  def get_book_author(self):\n",
        "    return self.__book_author\n",
        "\n",
        "  def get_book_avalibility(self, book_name):\n",
        "    if book_name == self.__book_title:\n",
        "      print(\"Book is available\")\n",
        "    else:\n",
        "      print(\"Book is not available\")\n",
        "\n"
      ],
      "metadata": {
        "id": "O26o7d005Fkh"
      },
      "execution_count": 3,
      "outputs": []
    },
    {
      "cell_type": "code",
      "source": [
        "lib = library(\"Basics of Data Science\", \"Krish Naik\")"
      ],
      "metadata": {
        "id": "DadCd1hAuEmy"
      },
      "execution_count": 4,
      "outputs": []
    },
    {
      "cell_type": "code",
      "source": [
        "lib.get_book_author()"
      ],
      "metadata": {
        "colab": {
          "base_uri": "https://localhost:8080/",
          "height": 36
        },
        "id": "Kd9-uX2QuX4a",
        "outputId": "aa0d1420-87ef-4a02-84aa-93798c1d7a89"
      },
      "execution_count": 6,
      "outputs": [
        {
          "output_type": "execute_result",
          "data": {
            "text/plain": [
              "'Krish Naik'"
            ],
            "application/vnd.google.colaboratory.intrinsic+json": {
              "type": "string"
            }
          },
          "metadata": {},
          "execution_count": 6
        }
      ]
    },
    {
      "cell_type": "code",
      "source": [
        "lib.get_book_title()"
      ],
      "metadata": {
        "colab": {
          "base_uri": "https://localhost:8080/",
          "height": 36
        },
        "id": "MkHvpNAludEm",
        "outputId": "46a6b3a4-4003-4c0f-cd6b-fb6182e617d8"
      },
      "execution_count": 7,
      "outputs": [
        {
          "output_type": "execute_result",
          "data": {
            "text/plain": [
              "'Basics of Data Science'"
            ],
            "application/vnd.google.colaboratory.intrinsic+json": {
              "type": "string"
            }
          },
          "metadata": {},
          "execution_count": 7
        }
      ]
    },
    {
      "cell_type": "code",
      "source": [
        "lib.get_book_avalibility(\"Python\")"
      ],
      "metadata": {
        "colab": {
          "base_uri": "https://localhost:8080/"
        },
        "id": "5rhOeCDmugh-",
        "outputId": "2eb9bd64-49d1-4c01-cb50-466afdd06b21"
      },
      "execution_count": 8,
      "outputs": [
        {
          "output_type": "stream",
          "name": "stdout",
          "text": [
            "Book is not available\n"
          ]
        }
      ]
    },
    {
      "cell_type": "code",
      "source": [
        "lib.get_book_avalibility(\"Basics of Data Science\")"
      ],
      "metadata": {
        "colab": {
          "base_uri": "https://localhost:8080/"
        },
        "id": "oindpb6Xull3",
        "outputId": "091dc068-4a04-47e9-8158-0b4fa812554b"
      },
      "execution_count": 9,
      "outputs": [
        {
          "output_type": "stream",
          "name": "stdout",
          "text": [
            "Book is available\n"
          ]
        }
      ]
    },
    {
      "cell_type": "code",
      "source": [
        "# Create a Python class called `Customer` with private attributes for customer details like name, address, and contact information. Implement encapsulation to ensure data integrity and security."
      ],
      "metadata": {
        "id": "vDgl0_4Kus_B"
      },
      "execution_count": 10,
      "outputs": []
    },
    {
      "cell_type": "code",
      "source": [
        "class Customer :\n",
        "\n",
        "  def __init__(self, name, address, contact_no):\n",
        "    self.__name = name\n",
        "    self.__address = address\n",
        "    self.__contact_no = contact_no\n",
        "\n",
        "  def get_name(self): ## getter function to aceess the private variable name\n",
        "    return self.__name\n",
        "\n",
        "\n",
        "\n"
      ],
      "metadata": {
        "id": "ce3TUTWXu1ep"
      },
      "execution_count": 21,
      "outputs": []
    },
    {
      "cell_type": "code",
      "source": [
        "Cus = Customer(\"Tinks\", \"Rajathan\", 546473489239)"
      ],
      "metadata": {
        "id": "rE6m2SMkwOgs"
      },
      "execution_count": 22,
      "outputs": []
    },
    {
      "cell_type": "code",
      "source": [
        "\n",
        "Cus.get_name()"
      ],
      "metadata": {
        "colab": {
          "base_uri": "https://localhost:8080/",
          "height": 36
        },
        "id": "UnLr29UJwXys",
        "outputId": "fcbf4b63-d5a1-4bae-897d-b6f7a86069c3"
      },
      "execution_count": 24,
      "outputs": [
        {
          "output_type": "execute_result",
          "data": {
            "text/plain": [
              "'Tinks'"
            ],
            "application/vnd.google.colaboratory.intrinsic+json": {
              "type": "string"
            }
          },
          "metadata": {},
          "execution_count": 24
        }
      ]
    },
    {
      "cell_type": "markdown",
      "source": [
        "## Polymorphism:"
      ],
      "metadata": {
        "id": "LvVs7Csww5E-"
      }
    },
    {
      "cell_type": "code",
      "source": [
        "## Create a Python class hierarchy for shapes (e.g., circle, square, triangle) and demonstrate polymorphism through a common method, such as `calculate_area()`."
      ],
      "metadata": {
        "id": "gTI6Ib_fw-wy"
      },
      "execution_count": 25,
      "outputs": []
    },
    {
      "cell_type": "code",
      "source": [
        "class shape:\n",
        "\n",
        "  def __init__(self, length, base, side, radius):\n",
        "    self.length = length\n",
        "    self.base = base\n",
        "    self.side = side\n",
        "    self.radius = radius\n",
        "\n",
        "  def Area(self):\n",
        "\n",
        "    print(\"Area of the circle is\", 3.14*self.side*self.side)\n",
        "    print(\"Area of square is\", self.side * self.side)\n",
        "    print(\"Area of traingle\", 0.5*self.length*self.base)\n",
        "\n"
      ],
      "metadata": {
        "id": "-jlKPXVmz2a7"
      },
      "execution_count": 26,
      "outputs": []
    },
    {
      "cell_type": "code",
      "source": [
        "sh = shape(12,3,4,2)"
      ],
      "metadata": {
        "id": "kHiLsCMy8HRj"
      },
      "execution_count": 27,
      "outputs": []
    },
    {
      "cell_type": "code",
      "source": [
        "sh.Area()"
      ],
      "metadata": {
        "colab": {
          "base_uri": "https://localhost:8080/"
        },
        "id": "jZuxstES8NGF",
        "outputId": "1bd8c462-cda9-4e9e-edcd-cb6842dba34f"
      },
      "execution_count": 28,
      "outputs": [
        {
          "output_type": "stream",
          "name": "stdout",
          "text": [
            "Area of the circle is 50.24\n",
            "Area of square is 16\n",
            "Area of traingle 18.0\n"
          ]
        }
      ]
    },
    {
      "cell_type": "code",
      "source": [
        "## Create a Python class called `Animal` with a method `speak()`. Then, create child classes like `Dog`, `Cat`, and `Bird`, each with their own `speak()` method. Demonstrate polymorphism by calling the `speak()` method on objects of different subclasses."
      ],
      "metadata": {
        "id": "0RdgUSZf8PFl"
      },
      "execution_count": 1,
      "outputs": []
    },
    {
      "cell_type": "code",
      "source": [
        "class Animal:\n",
        "\n",
        "  def speak(self):\n",
        "\n",
        "    print(\"Voice of Animal\")\n",
        "\n",
        "class Dog(Animal):\n",
        "\n",
        "  def speak(self):\n",
        "\n",
        "    print(\"Voice of Dog\")\n",
        "\n",
        "class Cat(Animal):\n",
        "\n",
        "  def speak(self):\n",
        "\n",
        "    print(\"Voice of Cat\")\n",
        "\n",
        "class Bird(Animal):\n",
        "\n",
        "  def speak(self):\n",
        "\n",
        "    print(\"Voice of Bird\")"
      ],
      "metadata": {
        "id": "qH5ttp7kYF7d"
      },
      "execution_count": 3,
      "outputs": []
    },
    {
      "cell_type": "code",
      "source": [
        "animal = Animal()"
      ],
      "metadata": {
        "id": "VYQKjl93alVT"
      },
      "execution_count": 4,
      "outputs": []
    },
    {
      "cell_type": "code",
      "source": [
        "animal.speak()"
      ],
      "metadata": {
        "colab": {
          "base_uri": "https://localhost:8080/"
        },
        "id": "PiZX0XL6axuN",
        "outputId": "1cd08790-8426-4f39-8e3c-3c5772f47fbb"
      },
      "execution_count": 5,
      "outputs": [
        {
          "output_type": "stream",
          "name": "stdout",
          "text": [
            "Voice of Animal\n"
          ]
        }
      ]
    },
    {
      "cell_type": "code",
      "source": [
        "d1 = Dog()\n",
        "c1 = Cat()\n",
        "b1 = Bird()"
      ],
      "metadata": {
        "id": "38zv22E8a06v"
      },
      "execution_count": 6,
      "outputs": []
    },
    {
      "cell_type": "code",
      "source": [
        "d1.speak()\n",
        "c1.speak()\n",
        "b1.speak()"
      ],
      "metadata": {
        "colab": {
          "base_uri": "https://localhost:8080/"
        },
        "id": "df7sbXAKa-5f",
        "outputId": "28e2efce-2613-4910-841e-00cbdbfa5583"
      },
      "execution_count": 7,
      "outputs": [
        {
          "output_type": "stream",
          "name": "stdout",
          "text": [
            "Voice of Dog\n",
            "Voice of Cat\n",
            "Voice of Bird\n"
          ]
        }
      ]
    },
    {
      "cell_type": "code",
      "source": [
        "# prompt: 8. Create a Python class hierarchy for a vehicle system (e.g., car, bicycle, boat) and implement a polymorphic `start()` method that prints a message specific to each vehicle type.\n",
        "\n",
        "class Vehicle:\n",
        "\n",
        "  def start(self):\n",
        "    pass\n",
        "\n",
        "class Car(Vehicle):\n",
        "\n",
        "  def start(self):\n",
        "    print(\"Starting the car...\")\n",
        "\n",
        "class Bicycle(Vehicle):\n",
        "\n",
        "  def start(self):\n",
        "    print(\"Starting the bicycle...\")\n",
        "\n",
        "class Boat(Vehicle):\n",
        "\n",
        "  def start(self):\n",
        "    print(\"Starting the boat...\")\n",
        "\n",
        "c1 = Car()\n",
        "b1 = Bicycle()\n",
        "bt1 = Boat()\n",
        "\n",
        "c1.start()\n",
        "b1.start()\n",
        "bt1.start()\n"
      ],
      "metadata": {
        "colab": {
          "base_uri": "https://localhost:8080/"
        },
        "id": "ywWS_A81bS03",
        "outputId": "0bddca92-b5ed-44c7-c4ed-202c40e3cf59"
      },
      "execution_count": 9,
      "outputs": [
        {
          "output_type": "stream",
          "name": "stdout",
          "text": [
            "Starting the car...\n",
            "Starting the bicycle...\n",
            "Starting the boat...\n"
          ]
        }
      ]
    },
    {
      "cell_type": "code",
      "source": [],
      "metadata": {
        "id": "IV1bJecwbfSi"
      },
      "execution_count": null,
      "outputs": []
    },
    {
      "cell_type": "markdown",
      "source": [
        "14. Create a Python class hierarchy for a banking system with various account types (e.g., savings, checking, credit card) and demonstrate polymorphism by implementing a common `withdraw()` method."
      ],
      "metadata": {
        "id": "r6prOEukfo6E"
      }
    },
    {
      "cell_type": "code",
      "source": [
        "class Account :\n",
        "\n",
        "  def __init__(self, name, balance):\n",
        "    self.name = name\n",
        "    self.balance = balance\n",
        "\n",
        "\n",
        "  def deposit(self, amount):\n",
        "    self.balance += amount\n",
        "\n",
        "  def withdraw(self, amount):\n",
        "    raise NotImplementedError(\"This method is not implemented for base class Account.\")\n",
        "\n",
        "class Savings(Account):\n",
        "\n",
        "  def __init__(self, name, balance, interest_rate):\n",
        "\n",
        "    super().__init__(name, balance)\n",
        "    self.interest_rate = interest_rate\n",
        "\n",
        "  def withdraw(self, amount):\n",
        "    if amount > self.balance:\n",
        "      raise ValueError(\"Insufficient funds\")\n",
        "    else:\n",
        "      self.balance = self.balance - amount\n",
        "\n",
        "  class Checking(Account):\n",
        "\n",
        "    def __init__(self, name, balance, overdraft):\n",
        "      super().__init__(name, balance)\n",
        "      self.overdraft = overdraft\n",
        "\n",
        "    def withdraw(self, amount):\n",
        "      if amount > self.balance:\n",
        "        raise ValueError(\"Insufficient funds\")\n",
        "      else:\n",
        "        self.balance  = self.balance - amount\n",
        "\n",
        "\n",
        "\n",
        "\n",
        "\n",
        "\n",
        "\n",
        "\n"
      ],
      "metadata": {
        "id": "aXmw_YLhhGWX"
      },
      "execution_count": 12,
      "outputs": []
    },
    {
      "cell_type": "code",
      "source": [
        "Sav = Savings(\"Amit\", 33000, 3.4)"
      ],
      "metadata": {
        "id": "FAWRQgFVqQUr"
      },
      "execution_count": 15,
      "outputs": []
    },
    {
      "cell_type": "code",
      "source": [
        "Sav.withdraw(12000)"
      ],
      "metadata": {
        "id": "DyNWMr41qYUQ"
      },
      "execution_count": 16,
      "outputs": []
    },
    {
      "cell_type": "code",
      "source": [
        "Sav.balance"
      ],
      "metadata": {
        "colab": {
          "base_uri": "https://localhost:8080/"
        },
        "id": "cxiQSOsVqkuI",
        "outputId": "183fcb78-3403-48b9-d8e7-e5719b74de07"
      },
      "execution_count": 17,
      "outputs": [
        {
          "output_type": "execute_result",
          "data": {
            "text/plain": [
              "21000"
            ]
          },
          "metadata": {},
          "execution_count": 17
        }
      ]
    },
    {
      "cell_type": "code",
      "source": [],
      "metadata": {
        "id": "9nhrjnJGqoav"
      },
      "execution_count": null,
      "outputs": []
    },
    {
      "cell_type": "markdown",
      "source": [
        "17. Create a Python class hierarchy for employees in a company (e.g., manager, developer, designer) and implement polymorphism through a common `calculate_salary()` method."
      ],
      "metadata": {
        "id": "b2cxs5-pd1GG"
      }
    },
    {
      "cell_type": "code",
      "source": [
        "class Employees:\n",
        "\n",
        "  def __init__(self, Salary_Basic, Salary_DA, Salary_HRA):\n",
        "\n",
        "    self.Salary_Basic = Salary_Basic\n",
        "    self.Salary_DA = Salary_DA\n",
        "    self.Salary_HRA = Salary_HRA\n",
        "\n",
        "\n",
        "class Manager(Employees):\n",
        "\n",
        "  def __init__(self, Salary_Basic, Salary_DA, Salary_HRA):\n",
        "    super().__init__(Salary_Basic, Salary_DA, Salary_HRA)\n",
        "\n",
        "  def calculate_salary(self):\n",
        "    Total_Salary = self.Salary_Basic + self.Salary_DA + self.Salary_HRA\n",
        "    print(\"The total salary of Manager is \",Total_Salary)\n",
        "\n",
        "class Developer(Employees):\n",
        "\n",
        "  def __init__(self, Salary_Basic, Salary_DA, Salary_HRA):\n",
        "    super().__init__(Salary_Basic, Salary_DA, Salary_HRA)\n",
        "\n",
        "\n",
        "  def calculate_salary(self):\n",
        "    Total_Salary = self.Salary_Basic + self.Salary_DA + self.Salary_HRA\n",
        "    print(\"The total salary of Developer is \",Total_Salary)\n",
        "\n",
        "\n"
      ],
      "metadata": {
        "id": "PgTjopbxd1ty"
      },
      "execution_count": 10,
      "outputs": []
    },
    {
      "cell_type": "code",
      "source": [
        "Man = Manager(15000, 23000,34455676)"
      ],
      "metadata": {
        "id": "xrnDowFsiu9U"
      },
      "execution_count": 11,
      "outputs": []
    },
    {
      "cell_type": "code",
      "source": [
        "Man.calculate_salary()"
      ],
      "metadata": {
        "colab": {
          "base_uri": "https://localhost:8080/"
        },
        "id": "MwUNvWZfi850",
        "outputId": "a19eda8c-ab05-473f-b03b-0cbd38bec477"
      },
      "execution_count": 12,
      "outputs": [
        {
          "output_type": "stream",
          "name": "stdout",
          "text": [
            "The total salary of Manager is  34493676\n"
          ]
        }
      ]
    },
    {
      "cell_type": "code",
      "source": [
        "#"
      ],
      "metadata": {
        "id": "Nj3MEeQVi_VD"
      },
      "execution_count": null,
      "outputs": []
    },
    {
      "cell_type": "markdown",
      "source": [
        "20. Create a Python class for a zoo simulation, demonstrating polymorphism with different animal types (e.g., mammals, birds, reptiles) and their behavior (e.g., eating, sleeping, making sounds)."
      ],
      "metadata": {
        "id": "P-z30CVhnw4Z"
      }
    },
    {
      "cell_type": "code",
      "source": [
        "class Zoo :\n",
        "\n",
        "  def behaviour(self):\n",
        "    print(\"Animal can make any activity\")\n",
        "\n",
        "class mammals(Zoo):\n",
        "\n",
        "  def behaviour(self):\n",
        "    print(\"mammals are eating\")\n",
        "\n",
        "class Birds(Zoo):\n",
        "\n",
        "  def behaviour(self):\n",
        "    print(\"Birds are sleeping\")\n",
        "\n",
        "class Reptiles(Zoo):\n",
        "  def behaviour(self):\n",
        "    print(\"Reptiles are making sounds\")\n",
        "\n",
        "\n",
        ""
      ],
      "metadata": {
        "id": "dnSBflK_n07T"
      },
      "execution_count": 15,
      "outputs": []
    },
    {
      "cell_type": "code",
      "source": [
        "mam = mammals()\n",
        "bir = Birds()\n",
        "rep = Reptiles()"
      ],
      "metadata": {
        "id": "-2aSWdU_rJ_1"
      },
      "execution_count": 16,
      "outputs": []
    },
    {
      "cell_type": "code",
      "source": [
        "mam.behaviour()"
      ],
      "metadata": {
        "colab": {
          "base_uri": "https://localhost:8080/"
        },
        "id": "ivwpWqpbw5CW",
        "outputId": "8acb2cb4-a21f-44f5-e93a-5d91bc39eedf"
      },
      "execution_count": 18,
      "outputs": [
        {
          "output_type": "stream",
          "name": "stdout",
          "text": [
            "mammals are eating\n"
          ]
        }
      ]
    },
    {
      "cell_type": "code",
      "source": [],
      "metadata": {
        "id": "9t1D8mDqw7Sg"
      },
      "execution_count": null,
      "outputs": []
    }
  ]
}